{
 "cells": [
  {
   "cell_type": "markdown",
   "metadata": {},
   "source": [
    "# first homework:\n",
    "\n",
    "[Git link][gitdata]  \n",
    "[data source][datasource]\n",
    "\n",
    "\n",
    "I chose this data set for several reasons:  \n",
    "* source:  \n",
    " as I have gotten more into data I followed many sources of datasets this one crossed my desk from [r/datasets](http://www.reddit.com/r/datasets) and I have wanted to be able to actually utlize data recommeneded by blog/forum for a while.\n",
    "* type:\n",
    " this data set is a survey and surveys are notoriously messy. one of the skills I am most eager to master is munging. \n",
    " \n",
    " \n",
    "\\* while I certainly see the use of jupyter notebook in documenting anlysis and presenting the lack of a spell check poses real challenges.\n",
    "\n",
    "\n",
    "[gitdata]: \"placeholder\"\n",
    "\n",
    "[datasource]: https://wthh.dataforprogress.org/get-the-data"
   ]
  }
 ],
 "metadata": {
  "kernelspec": {
   "display_name": "Python 3",
   "language": "python",
   "name": "python3"
  },
  "language_info": {
   "codemirror_mode": {
    "name": "ipython",
    "version": 3
   },
   "file_extension": ".py",
   "mimetype": "text/x-python",
   "name": "python",
   "nbconvert_exporter": "python",
   "pygments_lexer": "ipython3",
   "version": "3.7.1"
  }
 },
 "nbformat": 4,
 "nbformat_minor": 2
}
