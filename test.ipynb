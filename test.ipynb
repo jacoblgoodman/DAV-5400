{
 "cells": [
  {
   "cell_type": "markdown",
   "metadata": {},
   "source": [
    "## test file\n",
    "\n",
    "- does this work\n",
    "- maybe"
   ]
  },
  {
   "cell_type": "code",
   "execution_count": 1,
   "metadata": {},
   "outputs": [
    {
     "name": "stdout",
     "output_type": "stream",
     "text": [
      "0\n",
      "1\n",
      "32\n",
      "243\n",
      "1024\n",
      "3125\n",
      "7776\n",
      "16807\n",
      "32768\n",
      "59049\n"
     ]
    }
   ],
   "source": [
    "for i in range(10):\n",
    "    print(i**5)"
   ]
  }
 ],
 "metadata": {
  "kernelspec": {
   "display_name": "Python 3",
   "language": "python",
   "name": "python3"
  },
  "language_info": {
   "codemirror_mode": {
    "name": "ipython",
    "version": 3
   },
   "file_extension": ".py",
   "mimetype": "text/x-python",
   "name": "python",
   "nbconvert_exporter": "python",
   "pygments_lexer": "ipython3",
   "version": "3.7.1"
  }
 },
 "nbformat": 4,
 "nbformat_minor": 2
}
