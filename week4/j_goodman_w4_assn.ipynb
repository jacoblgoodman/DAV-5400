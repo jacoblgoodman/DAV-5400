{
 "cells": [
  {
   "cell_type": "code",
   "execution_count": 8,
   "metadata": {},
   "outputs": [],
   "source": [
    "import numpy as np"
   ]
  },
  {
   "cell_type": "markdown",
   "metadata": {},
   "source": [
    "### task 1 \n",
    ">Write a Python/NumPy code block that finds the distinct/unique common items between these two arrays:"
   ]
  },
  {
   "cell_type": "code",
   "execution_count": 3,
   "metadata": {},
   "outputs": [
    {
     "data": {
      "text/plain": [
       "array([2, 4])"
      ]
     },
     "execution_count": 3,
     "metadata": {},
     "output_type": "execute_result"
    }
   ],
   "source": [
    "# some code here\n",
    "a = np.array([1, 2, 3, 2, 3, 4, 3, 4, 5, 6])\n",
    "b = np.array([7, 2, 10, 2, 7, 4, 9, 4, 9, 8])\n",
    "\n",
    "np.intersect1d(a,b)"
   ]
  },
  {
   "cell_type": "markdown",
   "metadata": {},
   "source": [
    "###  task 2\n",
    "\n",
    "> 2. Create the following 5x3 array using knowledge you have of Python’s / NumPy’s sequencing functionality so that you\n",
    "do not need to explicitly key in every integer value."
   ]
  },
  {
   "cell_type": "code",
   "execution_count": 4,
   "metadata": {},
   "outputs": [
    {
     "data": {
      "text/plain": [
       "array([[ 0,  1,  2],\n",
       "       [ 3,  4,  5],\n",
       "       [ 6,  7,  8],\n",
       "       [ 9, 10, 11],\n",
       "       [12, 13, 14]])"
      ]
     },
     "execution_count": 4,
     "metadata": {},
     "output_type": "execute_result"
    }
   ],
   "source": [
    "#solution as sugested by reading arange + reshape array  methods\n",
    "np.arange(15).reshape(5,3)"
   ]
  },
  {
   "cell_type": "markdown",
   "metadata": {},
   "source": [
    "### TASK 3\n",
    ">You are given the following two arrays:  \n",
    "a = np.array([12, 5, 7, 15, 3, 1, 8])  \n",
    "b = np.array([14, 6, 3, 11, 19, 12, 5])  \n",
    "Write a Python/Numpy code block that removes from array a any items that are also present in array b.\n"
   ]
  },
  {
   "cell_type": "code",
   "execution_count": 5,
   "metadata": {},
   "outputs": [
    {
     "name": "stdout",
     "output_type": "stream",
     "text": [
      "[ 1  7  8 15]\n"
     ]
    }
   ],
   "source": [
    "a = np.array([12, 5, 7, 15, 3, 1, 8])\n",
    "b = np.array([14, 6, 3, 11, 19, 12, 5])\n",
    "\n",
    "a = np.setdiff1d(a,b)\n",
    "\n",
    "print(a)"
   ]
  },
  {
   "cell_type": "markdown",
   "metadata": {},
   "source": [
    "### task 4\n",
    ">Suppose you have ridden a bicycle from New York City to Key West, Florida. Your bicycle odometer shows the total\n",
    "miles you have travelled thus far, which you make a note of each day with paper and pencil. Your first two entries might\n",
    "be ‘55’ and ‘120’, indicating that you rode your bike 55 miles on day 1 and 65 miles on day 2. Your task is to create a\n",
    "NumPy array wherein \n",
    "you can record the cumulative miles you recorded each day during your trip. Then use your Python skills to show the total miles that you rode each day.\n",
    ">\n",
    ">\n",
    ">Assume the trip took a total of 35 days and included at\n",
    "least 4 non-consecutive days where no cycling was possible due to either weather conditions or personal\n",
    "fatigue/soreness. For the remaining 31 days, you would have covered the entire distance between NYC and Key West.\n",
    "Complete your work within your Jupyter Notebook for this assignment and be sure to include a writeup explaining your\n",
    "approach to this problem, including the ways in which you decided to make use of NumPy.\n",
    "\n",
    "task to create a random walk:\n",
    "   4 days with no cycling \n",
    "   35 days total\n",
    "   total distance to travel = 1610\n",
    "   \n",
    "  this program still sometimes throws an error related to the insert of rest days that I can't track down"
   ]
  },
  {
   "cell_type": "code",
   "execution_count": 82,
   "metadata": {},
   "outputs": [
    {
     "name": "stdout",
     "output_type": "stream",
     "text": [
      "[  25   61   61   74  123  211  242  246  278  342  342  366  481  506\n",
      "  632  640  676  800  823  866  966  973  986 1009 1108 1153 1378 1378\n",
      " 1425 1464 1464 1477 1536 1569 1600]\n",
      "35\n",
      "[ 36   0  13  49  88  31   4  32  64   0  24 115  25 126   8  36 124  23\n",
      "  43 100   7  13  23  99  45 225   0  47  39   0  13  59  33  31]\n"
     ]
    }
   ],
   "source": [
    "#generate the random walk \n",
    "import random\n",
    "# implemented a solution found here https://stackoverflow.com/questions/3589214/generate-multiple-random-numbers-to-equal-a-value-in-python\n",
    "def bikeride(distance,days,restdays):\n",
    "    \"\"\"cacualte a running total amount to sum distance with days number of elements and restdays\n",
    "    number of zeros interspersed\n",
    "    \"\"\"\n",
    "    #randomly select days-restdays-1 number of dividers in range distance and sort them low to high \n",
    "    dividers = np.sort(np.random.randint(1,distance,size=(days-restdays-1)))\n",
    "    \n",
    "    #find total list of upper and lower bounds\n",
    "    \n",
    "    start = np.insert(dividers,0,0)\n",
    "    finish = np.append(dividers,distance)\n",
    "    \n",
    "    # find the Delta between upper and lower bound ie your daily amount biked\n",
    "    daily_traveled = finish-start\n",
    "    # loop to randomdomly pick rest days\n",
    "    #set up possible list days excluding first and last day\n",
    "    days = list(range(1,days-1))\n",
    "    daysoff = np.empty(restdays, dtype='int16')\n",
    "    for i in range(restdays):\n",
    "        #draw a random day\n",
    "        rest_day = random.choice(days)\n",
    "        #add it to the days off array\n",
    "        daysoff[i]=rest_day\n",
    "        #remove rest_day and ajoining days from list before next draw\n",
    "        days.remove(rest_day)\n",
    "        #if statements to prevent out of range errors\n",
    "        if rest_day+1 in days:\n",
    "            days.remove(rest_day+1)\n",
    "        if rest_day-1 in days:\n",
    "            days.remove(rest_day-1)\n",
    "    # to insert zero days use np.insert and then us cumsum to make into walk\n",
    "    final = np.cumsum(np.insert(daily_traveled,daysoff,0))\n",
    "    \n",
    "    # cumlative sum made with np.cumsum \n",
    "    return final\n",
    "\n",
    "#call bike ride to make array distance = 1610 (thank you google maps), days =35, restdays=4\n",
    "florida_bike = bikeride(distance= 1610,days=35,restdays=4)\n",
    "print(florida_bike)\n",
    "print(len(florida_bike))\n",
    "# number of miles riden each day with diff fucntion\n",
    "print(np.diff(florida_bike))\n",
    "\n",
    "                         "
   ]
  },
  {
   "cell_type": "markdown",
   "metadata": {},
   "source": [
    "### task 5 \n",
    ">Open the Jupyter Notebook provided to you with this assignment. The first code block within that file will load a\n",
    "small data set from a GitHub repository into a NumPy 2D array. The original source of that data contains an overview of\n",
    "its contents:"
   ]
  },
  {
   "cell_type": "code",
   "execution_count": 7,
   "metadata": {},
   "outputs": [
    {
     "name": "stderr",
     "output_type": "stream",
     "text": [
      "C:\\Users\\skyho\\Anaconda3\\lib\\site-packages\\ipykernel_launcher.py:8: FutureWarning: Method .as_matrix will be removed in a future version. Use .values instead.\n",
      "  \n"
     ]
    },
    {
     "name": "stdout",
     "output_type": "stream",
     "text": [
      " <class 'numpy.ndarray'> (39, 4) \n",
      " <class 'numpy.ndarray'> (39, 4) \n",
      " <class 'numpy.ndarray'> (39, 4)\n"
     ]
    }
   ],
   "source": [
    "import pandas\n",
    "import numpy as np\n",
    "\n",
    "# supress scientific notation\n",
    "np.set_printoptions(suppress = True)\n",
    "\n",
    "# read the data file from GitHub and convert to a NumPy ndarray object\n",
    "nyc_water = pandas.read_csv('https://raw.githubusercontent.com/jtopor/DAV-5400/master/Week4/Water_Consumption_In_The_New_York_City.csv').as_matrix()\n",
    "#using .values as per error message\n",
    "nyc_water_values = pandas.read_csv('https://raw.githubusercontent.com/jtopor/DAV-5400/master/Week4/Water_Consumption_In_The_New_York_City.csv').values\n",
    "#using to_numpy as per numpy documentation recomendation\n",
    "\n",
    "nyc_water_as_numpy = pandas.read_csv('https://raw.githubusercontent.com/jtopor/DAV-5400/master/Week4/Water_Consumption_In_The_New_York_City.csv').to_numpy()\n",
    "\n",
    "# verify you have an ndarray object\n",
    "#plus verifications that all atempts yeilded same array shape\n",
    "\n",
    "print('',type(nyc_water),nyc_water.shape,'\\n',type(nyc_water_values), nyc_water_values.shape,'\\n',type(nyc_water_as_numpy),nyc_water_as_numpy.shape)"
   ]
  },
  {
   "cell_type": "markdown",
   "metadata": {},
   "source": [
    "### after loading data answer the following questions\n",
    "\n",
    "> - What is the maximum yearly NYC consumption of water in millions of gallons per day?  \n",
    "- How many calendar years are represented within this data set? NumPy's shape command is one way to find\n",
    "out.\n",
    "- what is the mean and the standard deviation of the per capita daily water consumption?\n",
    "- What is the increase or decrease in population from year to year? Use NumPy's `diff` function to create an array of differences and save that to a variable called \"pop_diff\", then print that variable to the screen\n",
    "\n",
    "columns of data from data reference:\n",
    "- year\n",
    "- NYC pop\n",
    "- NYC Consumption (mil gal per day)\n",
    "- per capita in gals"
   ]
  },
  {
   "cell_type": "code",
   "execution_count": 41,
   "metadata": {},
   "outputs": [
    {
     "name": "stdout",
     "output_type": "stream",
     "text": [
      "[-30461.   17602.   19864.   72119.   53290.   39540.   45192.   23230.\n",
      "  11243.   -9544.   -8525.   38851.   54443.   77222.   64292.   62582.\n",
      "  64772.   75631.   84816.   89401.   60618.   16685.5  16685.5  16685.5\n",
      "  16685.5  16685.5  16685.5  16685.5  16685.5  16685.5  16685.5 108965.\n",
      "  77081.   61281.   49530.   44512.   21171.   85025. ]\n"
     ]
    }
   ],
   "source": [
    "# 1. max consumption utilzing .max method\n",
    "max_consumption = nyc_water[:,2].max()\n",
    "print(max_consumption)\n",
    "#2. shape on unique of year column to make sure their are no duplicates\n",
    "num_years = np.unique(nyc_water[:,0]).shape[0]\n",
    "print(num_years)\n",
    "#3. mean and standard deviation of percaptita water consumtions\n",
    "nyc_water_mean = nyc_water.mean(axis=0)[-1]\n",
    "nyc_water_stdiv = nyc_water[:,-1].std()\n",
    "#4. use diff funciton to find differences along \n",
    "pop_dif = np.diff(nyc_water[:,1])\n",
    "print(pop_dif)"
   ]
  },
  {
   "cell_type": "code",
   "execution_count": 47,
   "metadata": {},
   "outputs": [
    {
     "data": {
      "text/plain": [
       "[<matplotlib.lines.Line2D at 0x1c3a12167b8>]"
      ]
     },
     "execution_count": 47,
     "metadata": {},
     "output_type": "execute_result"
    },
    {
     "data": {
      "image/png": "[encoded data removed]",
      "text/plain": [
       "<Figure size 432x288 with 1 Axes>"
      ]
     },
     "metadata": {
      "needs_background": "light"
     },
     "output_type": "display_data"
    }
   ],
   "source": [
    "# extra visualiz change in pop over time\n",
    "from matplotlib import pyplot as plt\n",
    "plt.plot(nyc_water[1:,0],pop_dif)\n"
   ]
  }
 ],
 "metadata": {
  "kernelspec": {
   "display_name": "Python 3",
   "language": "python",
   "name": "python3"
  },
  "language_info": {
   "codemirror_mode": {
    "name": "ipython",
    "version": 3
   },
   "file_extension": ".py",
   "mimetype": "text/x-python",
   "name": "python",
   "nbconvert_exporter": "python",
   "pygments_lexer": "ipython3",
   "version": "3.7.2"
  }
 },
 "nbformat": 4,
 "nbformat_minor": 2
}
