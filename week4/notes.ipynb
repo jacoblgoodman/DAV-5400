{
 "cells": [
  {
   "cell_type": "code",
   "execution_count": 1,
   "metadata": {},
   "outputs": [],
   "source": [
    "import numpy as np"
   ]
  },
  {
   "cell_type": "markdown",
   "metadata": {},
   "source": []
  },
  {
   "cell_type": "code",
   "execution_count": 19,
   "metadata": {},
   "outputs": [],
   "source": [
    "data = np.random.randn(4,5)\n",
    "dataT = data.T"
   ]
  },
  {
   "cell_type": "code",
   "execution_count": 8,
   "metadata": {},
   "outputs": [
    {
     "data": {
      "text/plain": [
       "array([[-1.53714915,  0.63930893, -1.76599045,  1.01334894,  0.44611537],\n",
       "       [-0.67014639, -1.44035728,  1.91947362, -0.6121419 , -1.26984219],\n",
       "       [-0.50356059, -1.6264002 ,  0.92745041,  0.6002395 ,  0.40338698],\n",
       "       [ 0.52395617, -0.06361828,  1.02756053, -2.32229701, -0.4591935 ]])"
      ]
     },
     "execution_count": 8,
     "metadata": {},
     "output_type": "execute_result"
    }
   ],
   "source": [
    "data"
   ]
  },
  {
   "cell_type": "code",
   "execution_count": 15,
   "metadata": {},
   "outputs": [
    {
     "data": {
      "text/plain": [
       "array([[-1.53714915,  0.63930893, -1.76599045,  1.01334894,  0.44611537],\n",
       "       [-0.67014639, -1.44035728,  1.91947362, -0.6121419 , -1.26984219],\n",
       "       [-0.50356059, -1.6264002 ,  0.92745041,  0.6002395 ,  0.40338698],\n",
       "       [ 0.52395617, -0.06361828,  1.02756053, -2.32229701, -0.4591935 ]])"
      ]
     },
     "execution_count": 15,
     "metadata": {},
     "output_type": "execute_result"
    }
   ],
   "source": [
    "data[:data.shape[0]]\n"
   ]
  },
  {
   "cell_type": "code",
   "execution_count": 20,
   "metadata": {},
   "outputs": [
    {
     "data": {
      "text/plain": [
       "array([[ 0.52955113, -0.72783606,  0.87211599, -1.28890124],\n",
       "       [-1.40726532,  0.99675922,  2.33550423, -1.18496487],\n",
       "       [ 0.27597374,  0.92794397,  0.12062885,  0.59410295],\n",
       "       [ 3.1627509 ,  1.78736601, -0.1694285 ,  0.04488526],\n",
       "       [-0.41798871, -1.47371096, -2.03579296, -1.73509148]])"
      ]
     },
     "execution_count": 20,
     "metadata": {},
     "output_type": "execute_result"
    }
   ],
   "source": [
    "dataT"
   ]
  },
  {
   "cell_type": "code",
   "execution_count": 39,
   "metadata": {},
   "outputs": [
    {
     "name": "stdout",
     "output_type": "stream",
     "text": [
      "[ 0  3  5  6  9 10 12 15 18 20 21 24 25 27 30 33 35 36 39 40 42 45 48 50\n",
      " 51 54 55 57 60 63 65 66 69 70 72 75 78 80 81 84 85 87 90 93 95 96 99]\n",
      "2318\n"
     ]
    }
   ],
   "source": [
    "arr = np.arange(100)\n",
    "print(arr[np.invert(np.logical_and(arr%3,arr%5))])\n",
    "print(arr[np.invert(np.logical_and(arr%3,arr%5))].sum())\n"
   ]
  },
  {
   "cell_type": "code",
   "execution_count": 55,
   "metadata": {},
   "outputs": [
    {
     "name": "stdout",
     "output_type": "stream",
     "text": [
      "[ 0  3  5  6  9 10 12 15 18 20 21 24 25 27 30 33 35 36 39 40 42 45 48 50\n",
      " 51 54 55 57 60 63 65 66 69 70 72 75 78 80 81 84 85 87 90 93 95 96 99]\n"
     ]
    }
   ],
   "source": [
    "arr2 = np.arange(100)\n",
    "print(arr2[(arr2%3==0)|(arr2%5 == 0)])"
   ]
  },
  {
   "cell_type": "code",
   "execution_count": 45,
   "metadata": {},
   "outputs": [
    {
     "data": {
      "text/plain": [
       "array([[31, 43, 73, 79, 11],\n",
       "       [54, 69, 56,  7, 32],\n",
       "       [56, 22, 41, 70, 42],\n",
       "       [56, 94, 22, 80, 31]])"
      ]
     },
     "execution_count": 45,
     "metadata": {},
     "output_type": "execute_result"
    }
   ],
   "source": [
    "hands_data = np.array([[31,43,73,79,11],[54,69,56,7,32],[56,22,41,70,42],[56,94,22,80,31]])\n",
    "hands_data"
   ]
  },
  {
   "cell_type": "code",
   "execution_count": 54,
   "metadata": {},
   "outputs": [
    {
     "name": "stdout",
     "output_type": "stream",
     "text": [
      "[49.25 57.   48.   59.   29.  ] \n",
      " [10.56823069 27.08320513 18.80159568 30.27375101 11.24722188]\n"
     ]
    }
   ],
   "source": [
    "\n",
    "print(hands_data.mean(axis = 0),'\\n',hands_data.std(axis = 0))\n"
   ]
  }
 ],
 "metadata": {
  "kernelspec": {
   "display_name": "Python 3",
   "language": "python",
   "name": "python3"
  },
  "language_info": {
   "codemirror_mode": {
    "name": "ipython",
    "version": 3
   },
   "file_extension": ".py",
   "mimetype": "text/x-python",
   "name": "python",
   "nbconvert_exporter": "python",
   "pygments_lexer": "ipython3",
   "version": "3.7.2"
  }
 },
 "nbformat": 4,
 "nbformat_minor": 2
}
