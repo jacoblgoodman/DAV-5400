{
 "cells": [
  {
   "cell_type": "code",
   "execution_count": 3,
   "metadata": {},
   "outputs": [
    {
     "name": "stdout",
     "output_type": "stream",
     "text": [
      "['high', 'high', '2', '4', 'med', 'low', 'unacc']\n",
      "['high', 'high', '4', 'more', 'small', 'high', 'acc']\n",
      "['high', 'high', '4', 'more', 'big', 'low', 'unacc']\n",
      "['high', 'low', '2', 'more', 'big', 'high', 'acc']\n",
      "['vhigh', 'low', '3', '2', 'med', 'med', 'unacc']\n",
      "['low', 'high', '2', '2', 'small', 'low', 'unacc']\n",
      "['med', 'med', '4', 'more', 'med', 'high', 'vgood']\n",
      "['low', 'low', '3', '2', 'big', 'med', 'unacc']\n",
      "['vhigh', 'low', '2', '2', 'small', 'low', 'unacc']\n",
      "['vhigh', 'high', '4', '4', 'med', 'low', 'unacc']\n",
      "['low', 'low', '2', '2', 'med', 'med', 'unacc']\n",
      "['vhigh', 'low', '4', 'more', 'small', 'high', 'acc']\n",
      "['high', 'low', '2', '4', 'big', 'med', 'acc']\n",
      "['low', 'vhigh', '3', 'more', 'big', 'low', 'unacc']\n",
      "['high', 'low', '5more', '2', 'big', 'med', 'unacc']\n",
      "['vhigh', 'high', '2', 'more', 'med', 'high', 'unacc']\n",
      "['med', 'med', '2', '2', 'small', 'low', 'unacc']\n",
      "['high', 'low', '5more', '4', 'med', 'high', 'acc']\n",
      "['low', 'low', '3', 'more', 'med', 'high', 'vgood']\n",
      "['low', 'low', '2', '2', 'big', 'med', 'unacc']\n",
      "['med', 'high', '4', '2', 'big', 'high', 'unacc']\n",
      "['low', 'low', '2', '2', 'small', 'high', 'unacc']\n",
      "['vhigh', 'high', '5more', '4', 'med', 'med', 'unacc']\n",
      "['med', 'vhigh', '2', '2', 'big', 'low', 'unacc']\n",
      "['low', 'vhigh', '4', '4', 'big', 'low', 'unacc']\n",
      "['vhigh', 'low', '3', 'more', 'big', 'low', 'unacc']\n",
      "['med', 'vhigh', '3', '4', 'small', 'low', 'unacc']\n",
      "['high', 'high', '3', '4', 'med', 'med', 'unacc']\n",
      "['low', 'high', '5more', '2', 'big', 'low', 'unacc']\n",
      "['med', 'high', '5more', '2', 'med', 'med', 'unacc']\n",
      "['high', 'low', '3', '4', 'med', 'high', 'acc']\n",
      "['high', 'vhigh', '5more', '4', 'med', 'med', 'unacc']\n",
      "['low', 'low', '5more', '2', 'med', 'low', 'unacc']\n",
      "['vhigh', 'vhigh', '4', '2', 'big', 'high', 'unacc']\n",
      "['high', 'low', '3', '2', 'big', 'high', 'unacc']\n"
     ]
    }
   ],
   "source": [
    "import csv \n",
    "# be sure to update the path below to reflect your own environment!! \n",
    "    #file in same dir as notebook\n",
    "# also be sure that the code is properly indented after you paste it! \n",
    "  #Check\n",
    "with open('cars-sample35.txt') as csvfile: \n",
    "    readCSV = csv.reader(csvfile)     \n",
    "    for row in readCSV:  \n",
    "        # print each row as read by the csv.reader function         \n",
    "        print(row)\n",
    " "
   ]
  },
  {
   "cell_type": "markdown",
   "metadata": {},
   "source": [
    "### first task:  \n",
    ">Your first task is to read the file again and extract these seven attributes from each line of the file and create seven distinct lists comprised solely of the values you extracted for a given attribute.  In other words, you should have lists of prices, maintenance costs, number of doors, etc. For example, the first five \"luggage\" values should be as follows:   \n",
    "['med', 'small', 'big', 'big', 'med']  \n",
    "\n",
    "1. set up needed lists\n",
    "2. iterate through file using iterator code above.\n",
    "3. using list slicing and append method to add each element to correct list"
   ]
  },
  {
   "cell_type": "code",
   "execution_count": 4,
   "metadata": {},
   "outputs": [
    {
     "name": "stdout",
     "output_type": "stream",
     "text": [
      "['med', 'small', 'big', 'big', 'med']\n"
     ]
    }
   ],
   "source": [
    "#1. set up lists for each attribute \n",
    "Price = []\n",
    "MaintenanceCost = []\n",
    "NumberOfDoors = []\n",
    "NumberOfPassengers = []\n",
    "LuggageCapacity = []\n",
    "SafetyRating = []\n",
    "ClassificationOfVehicle = []\n",
    "\n",
    "\n",
    "#2. utlize provided code to initalize a new iterator \n",
    "with open('cars-sample35.txt') as csvfile: \n",
    "    readCSV = csv.reader(csvfile)     \n",
    "    for row in readCSV: \n",
    "        #3. use append method to add each item to the appropriate list \n",
    "        Price.append(row[0])\n",
    "        MaintenanceCost.append(row[1])\n",
    "        NumberOfDoors.append(row[2])\n",
    "        NumberOfPassengers.append(row[3])\n",
    "        LuggageCapacity.append(row[4])\n",
    "        SafetyRating.append(row[5])\n",
    "        ClassificationOfVehicle.append(row[6])\n",
    "\n",
    "#sanity check based on values provided in .pdf\n",
    "print(LuggageCapacity[:5])\n",
    "        "
   ]
  },
  {
   "cell_type": "markdown",
   "metadata": {},
   "source": [
    "### Second Task:\n",
    "> Your second task is to find the list index values of each automobile having a price rating of \"med\". Create a new list with your result. HINT: you can accomplish this task by searching the list of price values you created earlier. Be sure to print your results\n",
    "\n",
    "1. Done with list comprehension and enumerate function\n",
    "2. Done with numpy \n",
    "\n",
    "**note Varibles storing answers written in the following syntax for clarity and simplicity:*  __task_{number}_{attemptnumber}__\n",
    "\n"
   ]
  },
  {
   "cell_type": "code",
   "execution_count": 5,
   "metadata": {
    "scrolled": true
   },
   "outputs": [
    {
     "name": "stdout",
     "output_type": "stream",
     "text": [
      "[6, 16, 20, 23, 26, 29]\n",
      "med\n",
      "med\n",
      "med\n",
      "med\n",
      "med\n",
      "med\n"
     ]
    }
   ],
   "source": [
    "# 1. use list comprehesion and enumerate function\n",
    "Task_2_1 = [i for i,j in enumerate(Price) if j == \"med\"]\n",
    "print(Task_2_1) #print as requested\n",
    "\n",
    "# sanity check of results \n",
    "for p in Task_2_1:\n",
    "    print(Price[p])"
   ]
  },
  {
   "cell_type": "code",
   "execution_count": 6,
   "metadata": {},
   "outputs": [
    {
     "name": "stdout",
     "output_type": "stream",
     "text": [
      "[6, 16, 20, 23, 26, 29]\n"
     ]
    }
   ],
   "source": [
    "#2. done again with numpy becuase I wass currious and Arrays seem like they make a lot of the comparisons easier \n",
    "import numpy as np\n",
    "Task_2_2 = np.where(np.array(Price)=='med')[0]\n",
    "print(list(Task_2_2))\n"
   ]
  },
  {
   "cell_type": "markdown",
   "metadata": {},
   "source": [
    "### Third task:\n",
    "> is to find the \"number of passengers\" value for each auto having a \"price\" value of \"med\". Create a new list to store your findings and be sure to print your results.  \n",
    "\n",
    "1. standard control flow\n",
    "2. list comprehension\n",
    "3. numpy\n",
    "\n",
    "**note Varibles storing answers written in the following syntax for clarity and simplicity:*  __task_{number}_{attemptnumber}__\n"
   ]
  },
  {
   "cell_type": "code",
   "execution_count": 7,
   "metadata": {},
   "outputs": [
    {
     "name": "stdout",
     "output_type": "stream",
     "text": [
      "['more', '2', '2', '2', '4', '2']\n"
     ]
    }
   ],
   "source": [
    "#1 utlizing for loop and varible created in task 2\n",
    "\n",
    "Task_3_1 = []\n",
    "for i in Task_2_1:\n",
    "    Task_3_1.append(NumberOfPassengers[i])\n",
    "\n",
    "print(Task_3_1)"
   ]
  },
  {
   "cell_type": "code",
   "execution_count": 8,
   "metadata": {},
   "outputs": [
    {
     "name": "stdout",
     "output_type": "stream",
     "text": [
      "['more', '2', '2', '2', '4', '2']\n"
     ]
    }
   ],
   "source": [
    "#2 list comprehension done using varible created in task 2\n",
    "Task_3_2 = [NumberOfPassengers[i] for i in Task_2_1]\n",
    "print(Task_3_2)\n"
   ]
  },
  {
   "cell_type": "code",
   "execution_count": 9,
   "metadata": {},
   "outputs": [
    {
     "name": "stdout",
     "output_type": "stream",
     "text": [
      "['more' '2' '2' '2' '4' '2']\n"
     ]
    }
   ],
   "source": [
    "#3 numpy arrray operations done directly on varibles created in task 1\n",
    "Task_3_3 = np.array(NumberOfPassengers)[np.array(Price) == 'med'] \n",
    "print(Task_3_3)"
   ]
  },
  {
   "cell_type": "markdown",
   "metadata": {},
   "source": [
    "### Fourth task:\n",
    ">Your fourth task is to find the index value for each automobile having a price value of \"high\" and a maintenance value that is not \"low\". Create a new list to store your findings and be sure to print your results.\n",
    "\n",
    "**note Varibles storing answers written in the following syntax for clarity and simplicity:*  __task_{number}_{attemptnumber}__\n",
    "\n",
    "1.  using nested for loops\n",
    "2.  using sets "
   ]
  },
  {
   "cell_type": "code",
   "execution_count": 25,
   "metadata": {},
   "outputs": [
    {
     "name": "stdout",
     "output_type": "stream",
     "text": [
      "[0, 1, 2, 27, 31]\n"
     ]
    }
   ],
   "source": [
    "#1. nested loops:\n",
    "#establish \n",
    "Price_High = [i for i,j in enumerate(Price) if j=='high'] # list of  indexes having price = 'high'\n",
    "MaintenanceCost_low = [i for i,j in enumerate(MaintenanceCost) if j !='low'] #list of index of all maintenance costs not 'low'\n",
    "task_4_1 =[] #a new list to hold the intersection of the two above\n",
    "\n",
    "# a nested loop to find the intersection of the two lists\n",
    "for p in Price_High:\n",
    "    for m in MaintenanceCost_low:\n",
    "        if p == m:\n",
    "            task_4_1.append(p)\n",
    "            \n",
    "print(task_4_1)"
   ]
  },
  {
   "cell_type": "code",
   "execution_count": 26,
   "metadata": {},
   "outputs": [
    {
     "name": "stdout",
     "output_type": "stream",
     "text": [
      "[0, 1, 2, 27, 31]\n"
     ]
    }
   ],
   "source": [
    "#2. set comprehensions\n",
    "Set_Price_high = {i for i,j in enumerate(Price) if j == 'high'} # Set of indexes having price ='high'\n",
    "Set_MaintenanceCost_low = {i for i,j in enumerate(MaintenanceCost) if j !='low'} # set of indexes having maintence not 'Low'\n",
    "\n",
    "#the intersection of the two sets\n",
    "task_4_2 = sorted(list(Set_Price_high & Set_MaintenanceCost_low))\n",
    "print(task_4_2)"
   ]
  },
  {
   "cell_type": "markdown",
   "metadata": {},
   "source": [
    "### Fifth Task\n",
    ">Your fifth task is to find the index value for each auto having 2 doors and a luggage value of \"big\". Create a new list to store your findings and be sure to print your results.   \n",
    "\n",
    "1. done purely with list comprehsions and in syntax\n",
    "\n",
    "**note Varibles storing answers written in the following syntax for clarity and simplicity:*  __task_{number}_{attemptnumber}__\n",
    "\n"
   ]
  },
  {
   "cell_type": "code",
   "execution_count": 47,
   "metadata": {},
   "outputs": [
    {
     "name": "stdout",
     "output_type": "stream",
     "text": [
      "[3, 12, 19, 23]\n"
     ]
    }
   ],
   "source": [
    "#1. done with list comprehensions instead of nested for loop\n",
    "\n",
    "#establish inital lists of indexes \n",
    "NumberOfDoors_2 = [i for i, j in enumerate(NumberOfDoors) if j =='2']\n",
    "LuggageCapacity_big = [i for i, j in enumerate(LuggageCapacity) if j =='big']\n",
    "\n",
    "#list comprehension and in comparsion to find intersection\n",
    "Task_5_1 = [x for x in NumberOfDoors_2 if x in LuggageCapacity_big]\n",
    "\n",
    "print(Task_5_1)\n"
   ]
  },
  {
   "cell_type": "markdown",
   "metadata": {},
   "source": [
    "### Final task \n",
    ">Finally, create a new list containing the only the integer equivalents of the doors values. Keep in mind that the lists you have created thus far are composed solely of strings. If you find any values of '5more' in your list, convert them to a '5'. After converting the '5more' values to '5', convert all of the items in your list to their numeric equivalent and calculate the average number of doors across all 35 autos using whichever of Python's built in functions you require. Print your result. \n",
    "\n",
    "1. list comprehension  to create list of ints plus mean function of statistics package \n",
    "\n",
    "**note Varibles storing answers written in the following syntax for clarity and simplicity:*__task_{final}_{attemptnumber}__"
   ]
  },
  {
   "cell_type": "code",
   "execution_count": 48,
   "metadata": {},
   "outputs": [
    {
     "name": "stdout",
     "output_type": "stream",
     "text": [
      "3.3142857142857145\n"
     ]
    }
   ],
   "source": [
    "#1 \n",
    "# import mean function\n",
    "from statistics import mean\n",
    "\n",
    "#list comprehension to create list of ints\n",
    "task_final_1 = [5 if x == '5more' else int(x) for x in NumberOfDoors]\n",
    "\n",
    "#use mean function to return avg number of doors in data set \n",
    "print(mean(task_final_1))\n"
   ]
  }
 ],
 "metadata": {
  "kernelspec": {
   "display_name": "Python 3",
   "language": "python",
   "name": "python3"
  },
  "language_info": {
   "codemirror_mode": {
    "name": "ipython",
    "version": 3
   },
   "file_extension": ".py",
   "mimetype": "text/x-python",
   "name": "python",
   "nbconvert_exporter": "python",
   "pygments_lexer": "ipython3",
   "version": "3.7.2"
  }
 },
 "nbformat": 4,
 "nbformat_minor": 2
}
