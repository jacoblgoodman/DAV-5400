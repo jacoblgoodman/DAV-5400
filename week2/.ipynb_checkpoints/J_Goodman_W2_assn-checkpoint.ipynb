{
 "cells": [
  {
   "cell_type": "code",
   "execution_count": 24,
   "metadata": {},
   "outputs": [
    {
     "name": "stdout",
     "output_type": "stream",
     "text": [
      "['high', 'high', '2', '4', 'med', 'low', 'unacc']\n",
      "['high', 'high', '4', 'more', 'small', 'high', 'acc']\n",
      "['high', 'high', '4', 'more', 'big', 'low', 'unacc']\n",
      "['high', 'low', '2', 'more', 'big', 'high', 'acc']\n",
      "['vhigh', 'low', '3', '2', 'med', 'med', 'unacc']\n",
      "['low', 'high', '2', '2', 'small', 'low', 'unacc']\n",
      "['med', 'med', '4', 'more', 'med', 'high', 'vgood']\n",
      "['low', 'low', '3', '2', 'big', 'med', 'unacc']\n",
      "['vhigh', 'low', '2', '2', 'small', 'low', 'unacc']\n",
      "['vhigh', 'high', '4', '4', 'med', 'low', 'unacc']\n",
      "['low', 'low', '2', '2', 'med', 'med', 'unacc']\n",
      "['vhigh', 'low', '4', 'more', 'small', 'high', 'acc']\n",
      "['high', 'low', '2', '4', 'big', 'med', 'acc']\n",
      "['low', 'vhigh', '3', 'more', 'big', 'low', 'unacc']\n",
      "['high', 'low', '5more', '2', 'big', 'med', 'unacc']\n",
      "['vhigh', 'high', '2', 'more', 'med', 'high', 'unacc']\n",
      "['med', 'med', '2', '2', 'small', 'low', 'unacc']\n",
      "['high', 'low', '5more', '4', 'med', 'high', 'acc']\n",
      "['low', 'low', '3', 'more', 'med', 'high', 'vgood']\n",
      "['low', 'low', '2', '2', 'big', 'med', 'unacc']\n",
      "['med', 'high', '4', '2', 'big', 'high', 'unacc']\n",
      "['low', 'low', '2', '2', 'small', 'high', 'unacc']\n",
      "['vhigh', 'high', '5more', '4', 'med', 'med', 'unacc']\n",
      "['med', 'vhigh', '2', '2', 'big', 'low', 'unacc']\n",
      "['low', 'vhigh', '4', '4', 'big', 'low', 'unacc']\n",
      "['vhigh', 'low', '3', 'more', 'big', 'low', 'unacc']\n",
      "['med', 'vhigh', '3', '4', 'small', 'low', 'unacc']\n",
      "['high', 'high', '3', '4', 'med', 'med', 'unacc']\n",
      "['low', 'high', '5more', '2', 'big', 'low', 'unacc']\n",
      "['med', 'high', '5more', '2', 'med', 'med', 'unacc']\n",
      "['high', 'low', '3', '4', 'med', 'high', 'acc']\n",
      "['high', 'vhigh', '5more', '4', 'med', 'med', 'unacc']\n",
      "['low', 'low', '5more', '2', 'med', 'low', 'unacc']\n",
      "['vhigh', 'vhigh', '4', '2', 'big', 'high', 'unacc']\n",
      "['high', 'low', '3', '2', 'big', 'high', 'unacc']\n"
     ]
    }
   ],
   "source": [
    "import csv \n",
    "# be sure to update the path below to reflect your own environment!! \n",
    "    #file in same dir as notebook\n",
    "# also be sure that the code is properly indented after you paste it! \n",
    "  #Check\n",
    "with open('cars-sample35.txt') as csvfile: \n",
    "    readCSV = csv.reader(csvfile)     \n",
    "    for row in readCSV:  \n",
    "        # print each row as read by the csv.reader function         \n",
    "        print(row)\n",
    " "
   ]
  },
  {
   "cell_type": "markdown",
   "metadata": {},
   "source": [
    "### first task:  \n",
    "1. set up needed lists\n",
    "2. iterate through file using iterator code above.\n",
    "3. using list slicing and append method to add each element to correct list"
   ]
  },
  {
   "cell_type": "code",
   "execution_count": 26,
   "metadata": {},
   "outputs": [
    {
     "name": "stdout",
     "output_type": "stream",
     "text": [
      "['med', 'small', 'big', 'big', 'med']\n"
     ]
    }
   ],
   "source": [
    "#set up lists for each attribute \n",
    "Price = []\n",
    "MaintenanceCost = []\n",
    "NumberOfDoors = []\n",
    "NumberOfPassengers = []\n",
    "LuggageCapacity = []\n",
    "SafetyRating = []\n",
    "ClassificationOfVehicle = []\n",
    "\n",
    "\n",
    "#utlize provided code to initalize a new iterator \n",
    "with open('cars-sample35.txt') as csvfile: \n",
    "    readCSV = csv.reader(csvfile)     \n",
    "    for row in readCSV: \n",
    "        #use append method to add each item to the appropriate list \n",
    "        Price.append(row[0])\n",
    "        MaintenanceCost.append(row[1])\n",
    "        NumberOfDoors.append(row[2])\n",
    "        NumberOfPassengers.append(row[3])\n",
    "        LuggageCapacity.append(row[4])\n",
    "        SafetyRating.append(row[5])\n",
    "        ClassificationOfVehicle.append(row[6])\n",
    "\n",
    "#sanity check based on values provided in .pdf\n",
    "print(LuggageCapacity[:5])\n",
    "        "
   ]
  },
  {
   "cell_type": "markdown",
   "metadata": {},
   "source": [
    "### Second Task:\n",
    "> Your second task is to find the list index values of each automobile having a price rating of \"med\". Create a new list with your result. HINT: you can accomplish this task by searching the list of price values you created earlier. Be sure to print your results\n",
    "\n",
    "1. Done with list comprehension and enumerate function\n",
    "2. Done with numpy \n",
    "\n",
    "**note Varibles storing answers written in the following syntax for clarity and simplisity:*  __task_number_attemptnumber__\n",
    "\n"
   ]
  },
  {
   "cell_type": "code",
   "execution_count": 2,
   "metadata": {
    "scrolled": true
   },
   "outputs": [
    {
     "ename": "NameError",
     "evalue": "name 'Price' is not defined",
     "output_type": "error",
     "traceback": [
      "\u001b[1;31m---------------------------------------------------------------------------\u001b[0m",
      "\u001b[1;31mNameError\u001b[0m                                 Traceback (most recent call last)",
      "\u001b[1;32m<ipython-input-2-4b7dce45756e>\u001b[0m in \u001b[0;36m<module>\u001b[1;34m\u001b[0m\n\u001b[0;32m      1\u001b[0m \u001b[1;31m# 1. use list comprehsion and enumerate function\u001b[0m\u001b[1;33m\u001b[0m\u001b[1;33m\u001b[0m\u001b[1;33m\u001b[0m\u001b[0m\n\u001b[1;32m----> 2\u001b[1;33m \u001b[0mTask_2_1\u001b[0m \u001b[1;33m=\u001b[0m \u001b[1;33m[\u001b[0m\u001b[0mi\u001b[0m \u001b[1;32mfor\u001b[0m \u001b[0mi\u001b[0m\u001b[1;33m,\u001b[0m\u001b[0mj\u001b[0m \u001b[1;32min\u001b[0m \u001b[0menumerate\u001b[0m\u001b[1;33m(\u001b[0m\u001b[0mPrice\u001b[0m\u001b[1;33m)\u001b[0m \u001b[1;32mif\u001b[0m \u001b[0mj\u001b[0m \u001b[1;33m==\u001b[0m \u001b[1;34m\"med\"\u001b[0m\u001b[1;33m]\u001b[0m\u001b[1;33m\u001b[0m\u001b[1;33m\u001b[0m\u001b[0m\n\u001b[0m\u001b[0;32m      3\u001b[0m \u001b[0mprint\u001b[0m\u001b[1;33m(\u001b[0m\u001b[0mTask_2_1\u001b[0m\u001b[1;33m)\u001b[0m \u001b[1;31m#print as requested\u001b[0m\u001b[1;33m\u001b[0m\u001b[1;33m\u001b[0m\u001b[0m\n\u001b[0;32m      4\u001b[0m \u001b[1;33m\u001b[0m\u001b[0m\n\u001b[0;32m      5\u001b[0m \u001b[1;31m# sanity check of results\u001b[0m\u001b[1;33m\u001b[0m\u001b[1;33m\u001b[0m\u001b[1;33m\u001b[0m\u001b[0m\n",
      "\u001b[1;31mNameError\u001b[0m: name 'Price' is not defined"
     ]
    }
   ],
   "source": [
    "# 1. use list comprehsion and enumerate function\n",
    "Task_2_1 = [i for i,j in enumerate(Price) if j == \"med\"]\n",
    "print(Task_2_1) #print as requested\n",
    "\n",
    "# sanity check of results \n",
    "for p in Task_2_1:\n",
    "    print(Price[p])"
   ]
  },
  {
   "cell_type": "code",
   "execution_count": 76,
   "metadata": {},
   "outputs": [
    {
     "name": "stdout",
     "output_type": "stream",
     "text": [
      "[6, 16, 20, 23, 26, 29]\n"
     ]
    }
   ],
   "source": [
    "#2. done again with numpy becuase I wass currious and Arrays seem like they make a lot of the comparisons easier \n",
    "import numpy as np\n",
    "Task_2_2 = np.where(np.array(Price)=='med')[0]\n",
    "print(list(Task_2_2))\n"
   ]
  },
  {
   "cell_type": "markdown",
   "metadata": {},
   "source": [
    "### Third task:\n",
    "> is to find the \"number of passengers\" value for each auto having a \"price\" value of \"med\". Create a new list to store your findings and be sure to print your results.  \n",
    "\n",
    "1. standard control flow\n",
    "2. list comprehension\n",
    "3. numpy\n",
    "\n",
    "**note Varibles storing answers written in the following syntax for clarity and simplisity:*  __task_number_attemptnumber__\n"
   ]
  },
  {
   "cell_type": "code",
   "execution_count": 86,
   "metadata": {},
   "outputs": [
    {
     "name": "stdout",
     "output_type": "stream",
     "text": [
      "['more', '2', '2', '2', '4', '2']\n"
     ]
    }
   ],
   "source": [
    "#1 utlizing for loop and varible created in task 2\n",
    "\n",
    "Task_3_1 = []\n",
    "for i in Task_2_1:\n",
    "    Task_3_1.append(NumberOfPassengers[i])\n",
    "\n",
    "print(Task_3_1)"
   ]
  },
  {
   "cell_type": "code",
   "execution_count": 85,
   "metadata": {},
   "outputs": [
    {
     "name": "stdout",
     "output_type": "stream",
     "text": [
      "['more', '2', '2', '2', '4', '2']\n"
     ]
    }
   ],
   "source": [
    "#2 list comprehension done using varible created in task 2\n",
    "Task_3_2 = [NumberOfPassengers[i] for i in Task_2_1]\n",
    "print(Task_3_2)\n"
   ]
  },
  {
   "cell_type": "code",
   "execution_count": 80,
   "metadata": {},
   "outputs": [
    {
     "name": "stdout",
     "output_type": "stream",
     "text": [
      "['more' '2' '2' '2' '4' '2']\n"
     ]
    }
   ],
   "source": [
    "#3 numpy arrray operations done directly on varibles created in task 1\n",
    "Task_3_3 = np.array(NumberOfPassengers)[np.array(Price) == 'med'] \n",
    "print(Task_3_3)"
   ]
  },
  {
   "cell_type": "markdown",
   "metadata": {},
   "source": [
    "### Fourth task:\n",
    ">Your fourth task is to find the index value for each automobile having a price value of \"high\" and a maintenance value that is not \"low\". Create a new list to store your findings and be sure to print your results.\n",
    "\n",
    "**note Varibles storing answers written in the following syntax for clarity and simplisity:*  __task_number_attemptnumber__\n",
    "\n",
    "1.  using nested for loops\n",
    "2.  using sets "
   ]
  },
  {
   "cell_type": "code",
   "execution_count": 91,
   "metadata": {},
   "outputs": [
    {
     "name": "stdout",
     "output_type": "stream",
     "text": [
      "[0, 1, 2, 3, 12, 14, 17, 27, 30, 31, 34] [3, 4, 7, 8, 10, 11, 12, 14, 17, 18, 19, 21, 25, 30, 32, 34]\n",
      "[3, 12, 14, 17, 30, 34]\n"
     ]
    }
   ],
   "source": [
    "#1. nested loops:\n",
    "#establish \n",
    "Price_High = [i for i,j in enumerate(Price) if j=='high']\n",
    "MaintenanceCost_low = [i for i,j in enumerate(MaintenanceCost) if j=='low']\n",
    "task_3_1 =[]\n",
    "\n",
    "print(Price_High,MaintenanceCost_low)\n",
    "\n",
    "for p in Price_High:\n",
    "    for m in MaintenanceCost_low:\n",
    "        if p == m:\n",
    "            task_3_1.append(p)\n",
    "            \n",
    "print(task_3_1)"
   ]
  },
  {
   "cell_type": "code",
   "execution_count": null,
   "metadata": {},
   "outputs": [],
   "source": [
    "#2. set comprehensions  "
   ]
  }
 ],
 "metadata": {
  "kernelspec": {
   "display_name": "Python 3",
   "language": "python",
   "name": "python3"
  },
  "language_info": {
   "codemirror_mode": {
    "name": "ipython",
    "version": 3
   },
   "file_extension": ".py",
   "mimetype": "text/x-python",
   "name": "python",
   "nbconvert_exporter": "python",
   "pygments_lexer": "ipython3",
   "version": "3.7.2"
  }
 },
 "nbformat": 4,
 "nbformat_minor": 2
}
