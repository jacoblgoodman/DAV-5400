{
 "cells": [
  {
   "cell_type": "markdown",
   "metadata": {},
   "source": [
    "# phase 1: Data Acquisition, Data Preparation & Exploratory Data Analysis\n",
    "\n",
    "## 1. Environment set up and Data Acquisition:\n",
    "\n",
    "To get set up we will follow the following steps:\n",
    "\n",
    "1. we will first load the packages we need for phase 1\n",
    "2. we will scrape the Column names:\n",
    "    1. make a request to the Names file\n",
    "    2. regex to capture column names\n",
    "    3. remove extra that got grabbed in scrape\n",
    "    4. insert Poisonous in first position (it was excluded as it is not an attribute )\n",
    "3. To acquire data and combine with 2. "
   ]
  },
  {
   "cell_type": "code",
   "execution_count": 170,
   "metadata": {},
   "outputs": [
    {
     "data": {
      "text/html": [
       "<div>\n",
       "<style scoped>\n",
       "    .dataframe tbody tr th:only-of-type {\n",
       "        vertical-align: middle;\n",
       "    }\n",
       "\n",
       "    .dataframe tbody tr th {\n",
       "        vertical-align: top;\n",
       "    }\n",
       "\n",
       "    .dataframe thead th {\n",
       "        text-align: right;\n",
       "    }\n",
       "</style>\n",
       "<table border=\"1\" class=\"dataframe\">\n",
       "  <thead>\n",
       "    <tr style=\"text-align: right;\">\n",
       "      <th></th>\n",
       "      <th>poisonous</th>\n",
       "      <th>cap-shape</th>\n",
       "      <th>cap-surface</th>\n",
       "      <th>cap-color</th>\n",
       "      <th>bruises?</th>\n",
       "      <th>odor</th>\n",
       "      <th>gill-attachment</th>\n",
       "      <th>gill-spacing</th>\n",
       "      <th>gill-size</th>\n",
       "      <th>gill-color</th>\n",
       "      <th>...</th>\n",
       "      <th>stalk-surface-below-ring</th>\n",
       "      <th>stalk-color-above-ring</th>\n",
       "      <th>stalk-color-below-ring</th>\n",
       "      <th>veil-type</th>\n",
       "      <th>veil-color</th>\n",
       "      <th>ring-number</th>\n",
       "      <th>ring-type</th>\n",
       "      <th>spore-print-color</th>\n",
       "      <th>population</th>\n",
       "      <th>habitat</th>\n",
       "    </tr>\n",
       "  </thead>\n",
       "  <tbody>\n",
       "    <tr>\n",
       "      <th>0</th>\n",
       "      <td>p</td>\n",
       "      <td>x</td>\n",
       "      <td>s</td>\n",
       "      <td>n</td>\n",
       "      <td>t</td>\n",
       "      <td>p</td>\n",
       "      <td>f</td>\n",
       "      <td>c</td>\n",
       "      <td>n</td>\n",
       "      <td>k</td>\n",
       "      <td>...</td>\n",
       "      <td>s</td>\n",
       "      <td>w</td>\n",
       "      <td>w</td>\n",
       "      <td>p</td>\n",
       "      <td>w</td>\n",
       "      <td>o</td>\n",
       "      <td>p</td>\n",
       "      <td>k</td>\n",
       "      <td>s</td>\n",
       "      <td>u</td>\n",
       "    </tr>\n",
       "    <tr>\n",
       "      <th>1</th>\n",
       "      <td>e</td>\n",
       "      <td>x</td>\n",
       "      <td>s</td>\n",
       "      <td>y</td>\n",
       "      <td>t</td>\n",
       "      <td>a</td>\n",
       "      <td>f</td>\n",
       "      <td>c</td>\n",
       "      <td>b</td>\n",
       "      <td>k</td>\n",
       "      <td>...</td>\n",
       "      <td>s</td>\n",
       "      <td>w</td>\n",
       "      <td>w</td>\n",
       "      <td>p</td>\n",
       "      <td>w</td>\n",
       "      <td>o</td>\n",
       "      <td>p</td>\n",
       "      <td>n</td>\n",
       "      <td>n</td>\n",
       "      <td>g</td>\n",
       "    </tr>\n",
       "    <tr>\n",
       "      <th>2</th>\n",
       "      <td>e</td>\n",
       "      <td>b</td>\n",
       "      <td>s</td>\n",
       "      <td>w</td>\n",
       "      <td>t</td>\n",
       "      <td>l</td>\n",
       "      <td>f</td>\n",
       "      <td>c</td>\n",
       "      <td>b</td>\n",
       "      <td>n</td>\n",
       "      <td>...</td>\n",
       "      <td>s</td>\n",
       "      <td>w</td>\n",
       "      <td>w</td>\n",
       "      <td>p</td>\n",
       "      <td>w</td>\n",
       "      <td>o</td>\n",
       "      <td>p</td>\n",
       "      <td>n</td>\n",
       "      <td>n</td>\n",
       "      <td>m</td>\n",
       "    </tr>\n",
       "    <tr>\n",
       "      <th>3</th>\n",
       "      <td>p</td>\n",
       "      <td>x</td>\n",
       "      <td>y</td>\n",
       "      <td>w</td>\n",
       "      <td>t</td>\n",
       "      <td>p</td>\n",
       "      <td>f</td>\n",
       "      <td>c</td>\n",
       "      <td>n</td>\n",
       "      <td>n</td>\n",
       "      <td>...</td>\n",
       "      <td>s</td>\n",
       "      <td>w</td>\n",
       "      <td>w</td>\n",
       "      <td>p</td>\n",
       "      <td>w</td>\n",
       "      <td>o</td>\n",
       "      <td>p</td>\n",
       "      <td>k</td>\n",
       "      <td>s</td>\n",
       "      <td>u</td>\n",
       "    </tr>\n",
       "    <tr>\n",
       "      <th>4</th>\n",
       "      <td>e</td>\n",
       "      <td>x</td>\n",
       "      <td>s</td>\n",
       "      <td>g</td>\n",
       "      <td>f</td>\n",
       "      <td>n</td>\n",
       "      <td>f</td>\n",
       "      <td>w</td>\n",
       "      <td>b</td>\n",
       "      <td>k</td>\n",
       "      <td>...</td>\n",
       "      <td>s</td>\n",
       "      <td>w</td>\n",
       "      <td>w</td>\n",
       "      <td>p</td>\n",
       "      <td>w</td>\n",
       "      <td>o</td>\n",
       "      <td>e</td>\n",
       "      <td>n</td>\n",
       "      <td>a</td>\n",
       "      <td>g</td>\n",
       "    </tr>\n",
       "  </tbody>\n",
       "</table>\n",
       "<p>5 rows × 23 columns</p>\n",
       "</div>"
      ],
      "text/plain": [
       "  poisonous cap-shape cap-surface cap-color bruises? odor gill-attachment  \\\n",
       "0         p         x           s         n        t    p               f   \n",
       "1         e         x           s         y        t    a               f   \n",
       "2         e         b           s         w        t    l               f   \n",
       "3         p         x           y         w        t    p               f   \n",
       "4         e         x           s         g        f    n               f   \n",
       "\n",
       "  gill-spacing gill-size gill-color  ... stalk-surface-below-ring  \\\n",
       "0            c         n          k  ...                        s   \n",
       "1            c         b          k  ...                        s   \n",
       "2            c         b          n  ...                        s   \n",
       "3            c         n          n  ...                        s   \n",
       "4            w         b          k  ...                        s   \n",
       "\n",
       "  stalk-color-above-ring stalk-color-below-ring veil-type veil-color  \\\n",
       "0                      w                      w         p          w   \n",
       "1                      w                      w         p          w   \n",
       "2                      w                      w         p          w   \n",
       "3                      w                      w         p          w   \n",
       "4                      w                      w         p          w   \n",
       "\n",
       "  ring-number ring-type spore-print-color population habitat  \n",
       "0           o         p                 k          s       u  \n",
       "1           o         p                 n          n       g  \n",
       "2           o         p                 n          n       m  \n",
       "3           o         p                 k          s       u  \n",
       "4           o         e                 n          a       g  \n",
       "\n",
       "[5 rows x 23 columns]"
      ]
     },
     "execution_count": 170,
     "metadata": {},
     "output_type": "execute_result"
    }
   ],
   "source": [
    "#1 package loading:\n",
    "import numpy as np\n",
    "import pandas as pd\n",
    "import seaborn as sns\n",
    "import matplotlib.pyplot as plt\n",
    "import requests\n",
    "import re\n",
    "\n",
    "\n",
    "# get columns names froms names file\n",
    "#location of names\n",
    "http = 'https://archive.ics.uci.edu/ml/machine-learning-databases/mushroom/agaricus-lepiota.names'\n",
    "#request to names file\n",
    "req = requests.request('get',url = http)\n",
    "#search to match columns\n",
    "search = re.compile('[0-9]{1,2}. ([-?\\w]+):')\n",
    "#finding based on search droping some extra data\n",
    "names = search.findall(req.text)[3:]\n",
    "#inserting poisonous which was not listed in atribute list\n",
    "names.insert(0,'poisonous')\n",
    "\n",
    "#created Data frame with data plus names dirived above\n",
    "df = pd.read_csv('https://archive.ics.uci.edu/ml/machine-learning-databases/mushroom/agaricus-lepiota.data',names = names)\n",
    "\n",
    "#sanity check\n",
    "df.head()"
   ]
  },
  {
   "cell_type": "markdown",
   "metadata": {},
   "source": [
    "## 2. Data prep feature engineering:\n",
    "\n",
    "as we read about in [Week13 readings](https://elitedatascience.com/feature-engineering)  and in class their are several processes that we should embark on before doing any predictions on a data set. these include:\n",
    "\n",
    "- subsetting - the features we plan on utilizing in our model are the only ones we will process to simplify everything below\n",
    "- Handling missing data - most modeling algorithms require data that is free from gaps (no nulls)\n",
    "- combining sparse classes - categorical classes that have very few records can lead to overfit models \n",
    "- Adding dummy variables -  for each categorical value we will create a Boolean indicator value\n",
    "\n",
    "### Creating subset:\n",
    "\n",
    "Now that we have all the data we are ready to do some prep. first we will create the subset with the following features:\n",
    "\n",
    "1. Poisonous - our outcome of interest\n",
    "2. odor (required as part of assignment)\n",
    "3. spore-print-color (selected because I know how useful this is in mushroom identification)\n",
    "4. bruises? (as I know some mushrooms with volatile chemicals in them react to air I am curious if this can be utlize to predict poisonousness)"
   ]
  },
  {
   "cell_type": "code",
   "execution_count": 171,
   "metadata": {},
   "outputs": [],
   "source": [
    "# selecting collumns\n",
    "columns = ['poisonous','odor','bruises?', 'spore-print-color']\n",
    "#creating subset\n",
    "df_for_pred = df.loc[:,columns]"
   ]
  },
  {
   "cell_type": "markdown",
   "metadata": {},
   "source": [
    "### checking for null values"
   ]
  },
  {
   "cell_type": "code",
   "execution_count": 172,
   "metadata": {},
   "outputs": [
    {
     "data": {
      "text/plain": [
       "poisonous            0\n",
       "odor                 0\n",
       "bruises?             0\n",
       "spore-print-color    0\n",
       "dtype: int64"
      ]
     },
     "execution_count": 172,
     "metadata": {},
     "output_type": "execute_result"
    }
   ],
   "source": [
    "df_for_pred.isnull().sum()"
   ]
  },
  {
   "cell_type": "markdown",
   "metadata": {},
   "source": [
    "conclusion: the dataset is free from nulls\n",
    "\n",
    "\n",
    "\n",
    "### combining sparse classes \n",
    "#### Initial visualizing:\n",
    "\n",
    "To aid in identifying spares classes and learning more about our data we will create visualizations of each of our data points. As they are all categorical these will be bar charts "
   ]
  },
  {
   "cell_type": "code",
   "execution_count": 173,
   "metadata": {},
   "outputs": [
    {
     "data": {
      "image/png": "[encoded data removed]",
      "text/plain": [
       "<Figure size 864x864 with 4 Axes>"
      ]
     },
     "metadata": {},
     "output_type": "display_data"
    }
   ],
   "source": [
    "# barchart of subset variables\n",
    "plt.figure(figsize=(12,12));\n",
    "plt.suptitle('Variable bar charts',fontsize=24)\n",
    "plt.tight_layout();\n",
    "plt.subplot(2,2,1);\n",
    "sns.countplot(x='poisonous', data = df_for_pred);\n",
    "plt.subplot(2,2,2);\n",
    "sns.countplot(x='odor', data=df_for_pred);\n",
    "plt.subplot(2,2,3);\n",
    "sns.countplot(x='bruises?', data=df_for_pred);\n",
    "plt.subplot(2,2,4);\n",
    "sns.countplot(x='spore-print-color',data=df_for_pred);"
   ]
  },
  {
   "cell_type": "markdown",
   "metadata": {},
   "source": [
    "**conclusions:** \n",
    "\n",
    "**sparse classes**\n",
    "The spore-print-color variable appears to have several sparse classes that we should investigate combining. Odor could also be considered but will be excluded as it is included on the assignments direction their is no mention of this process in the directions provided.\n",
    "\n",
    "**other:** \n",
    "other conclusions that can be taken out of this initial look at our data.\n",
    "Poisonous - our observations appear to be approximatly \n",
    "#### counting\n",
    "\n",
    "we will next look at the value counts and decide what classes from spore print color to combine"
   ]
  },
  {
   "cell_type": "code",
   "execution_count": 174,
   "metadata": {},
   "outputs": [
    {
     "data": {
      "text/plain": [
       "w    2388\n",
       "n    1968\n",
       "k    1872\n",
       "h    1632\n",
       "r      72\n",
       "y      48\n",
       "b      48\n",
       "o      48\n",
       "u      48\n",
       "Name: spore-print-color, dtype: int64"
      ]
     },
     "metadata": {},
     "output_type": "display_data"
    }
   ],
   "source": [
    "display(df_for_pred['spore-print-color'].value_counts())"
   ]
  },
  {
   "cell_type": "markdown",
   "metadata": {},
   "source": [
    "#### Combining spares classes\n",
    "\n",
    "The classes `r, u, b, o , y` will all be combined into a variable `other` they all have a fraction of the number of observations of the other values."
   ]
  },
  {
   "cell_type": "code",
   "execution_count": 175,
   "metadata": {},
   "outputs": [
    {
     "data": {
      "text/plain": [
       "w        2388\n",
       "n        1968\n",
       "k        1872\n",
       "h        1632\n",
       "other     264\n",
       "Name: spore-print-color, dtype: int64"
      ]
     },
     "metadata": {},
     "output_type": "display_data"
    }
   ],
   "source": [
    "#setting sparse to other with isin method \n",
    "df_for_pred.loc[df_for_pred['spore-print-color'].isin(['r','u','b','o','y']),'spore-print-color'] = 'other'\n",
    "\n",
    "#sanity check \n",
    "display(df_for_pred['spore-print-color'].value_counts())"
   ]
  },
  {
   "cell_type": "markdown",
   "metadata": {},
   "source": [
    "### Adding dummy variables: \n",
    "\n",
    "all of our variables will require some modification to make them ready for predictive modeling.\n",
    "\n",
    "- Poisonous: as it has only 2 values we will make an in-line update and set P = to 1 and E = to 0 \n",
    "\n",
    "- Bruises?: has two values T/F we will make t = 1 and f = 0\n",
    "\n",
    "- spore-print-color and odor have `14` values between them (after combining sparse classes ) so we will utilize the `.get_dummies`  pandas function to split them in indicator variables so that our**analytical base table (ABT)** will contain `16` columns\n",
    "\n",
    "#### 1.Poisonous & Bruises?"
   ]
  },
  {
   "cell_type": "code",
   "execution_count": 176,
   "metadata": {},
   "outputs": [
    {
     "data": {
      "text/plain": [
       "0    4208\n",
       "1    3916\n",
       "Name: poisonous, dtype: int64"
      ]
     },
     "execution_count": 176,
     "metadata": {},
     "output_type": "execute_result"
    }
   ],
   "source": [
    "#setting Poisonous = p to 1\n",
    "df_for_pred.poisonous = (df_for_pred.poisonous == 'p').astype(int)\n",
    "#verification\n",
    "df_for_pred.poisonous.value_counts()"
   ]
  },
  {
   "cell_type": "code",
   "execution_count": 177,
   "metadata": {},
   "outputs": [
    {
     "data": {
      "text/plain": [
       "0    4748\n",
       "1    3376\n",
       "Name: bruises?, dtype: int64"
      ]
     },
     "execution_count": 177,
     "metadata": {},
     "output_type": "execute_result"
    }
   ],
   "source": [
    "#setting bruises? = t to 1\n",
    "df_for_pred['bruises?'] = (df_for_pred['bruises?'] =='t').astype(int)\n",
    "\n",
    "#sanity check \n",
    "df_for_pred['bruises?'].value_counts()"
   ]
  },
  {
   "cell_type": "markdown",
   "metadata": {},
   "source": [
    "#### 2.Spore-Print-color & Odor Get_Dummies"
   ]
  },
  {
   "cell_type": "code",
   "execution_count": 178,
   "metadata": {},
   "outputs": [
    {
     "data": {
      "text/html": [
       "<div>\n",
       "<style scoped>\n",
       "    .dataframe tbody tr th:only-of-type {\n",
       "        vertical-align: middle;\n",
       "    }\n",
       "\n",
       "    .dataframe tbody tr th {\n",
       "        vertical-align: top;\n",
       "    }\n",
       "\n",
       "    .dataframe thead th {\n",
       "        text-align: right;\n",
       "    }\n",
       "</style>\n",
       "<table border=\"1\" class=\"dataframe\">\n",
       "  <thead>\n",
       "    <tr style=\"text-align: right;\">\n",
       "      <th></th>\n",
       "      <th>poisonous</th>\n",
       "      <th>bruises?</th>\n",
       "      <th>odor_a</th>\n",
       "      <th>odor_c</th>\n",
       "      <th>odor_f</th>\n",
       "      <th>odor_l</th>\n",
       "      <th>odor_m</th>\n",
       "      <th>odor_n</th>\n",
       "      <th>odor_p</th>\n",
       "      <th>odor_s</th>\n",
       "      <th>odor_y</th>\n",
       "      <th>spore-print-color_h</th>\n",
       "      <th>spore-print-color_k</th>\n",
       "      <th>spore-print-color_n</th>\n",
       "      <th>spore-print-color_other</th>\n",
       "      <th>spore-print-color_w</th>\n",
       "    </tr>\n",
       "  </thead>\n",
       "  <tbody>\n",
       "    <tr>\n",
       "      <th>0</th>\n",
       "      <td>1</td>\n",
       "      <td>1</td>\n",
       "      <td>0</td>\n",
       "      <td>0</td>\n",
       "      <td>0</td>\n",
       "      <td>0</td>\n",
       "      <td>0</td>\n",
       "      <td>0</td>\n",
       "      <td>1</td>\n",
       "      <td>0</td>\n",
       "      <td>0</td>\n",
       "      <td>0</td>\n",
       "      <td>1</td>\n",
       "      <td>0</td>\n",
       "      <td>0</td>\n",
       "      <td>0</td>\n",
       "    </tr>\n",
       "    <tr>\n",
       "      <th>1</th>\n",
       "      <td>0</td>\n",
       "      <td>1</td>\n",
       "      <td>1</td>\n",
       "      <td>0</td>\n",
       "      <td>0</td>\n",
       "      <td>0</td>\n",
       "      <td>0</td>\n",
       "      <td>0</td>\n",
       "      <td>0</td>\n",
       "      <td>0</td>\n",
       "      <td>0</td>\n",
       "      <td>0</td>\n",
       "      <td>0</td>\n",
       "      <td>1</td>\n",
       "      <td>0</td>\n",
       "      <td>0</td>\n",
       "    </tr>\n",
       "    <tr>\n",
       "      <th>2</th>\n",
       "      <td>0</td>\n",
       "      <td>1</td>\n",
       "      <td>0</td>\n",
       "      <td>0</td>\n",
       "      <td>0</td>\n",
       "      <td>1</td>\n",
       "      <td>0</td>\n",
       "      <td>0</td>\n",
       "      <td>0</td>\n",
       "      <td>0</td>\n",
       "      <td>0</td>\n",
       "      <td>0</td>\n",
       "      <td>0</td>\n",
       "      <td>1</td>\n",
       "      <td>0</td>\n",
       "      <td>0</td>\n",
       "    </tr>\n",
       "    <tr>\n",
       "      <th>3</th>\n",
       "      <td>1</td>\n",
       "      <td>1</td>\n",
       "      <td>0</td>\n",
       "      <td>0</td>\n",
       "      <td>0</td>\n",
       "      <td>0</td>\n",
       "      <td>0</td>\n",
       "      <td>0</td>\n",
       "      <td>1</td>\n",
       "      <td>0</td>\n",
       "      <td>0</td>\n",
       "      <td>0</td>\n",
       "      <td>1</td>\n",
       "      <td>0</td>\n",
       "      <td>0</td>\n",
       "      <td>0</td>\n",
       "    </tr>\n",
       "    <tr>\n",
       "      <th>4</th>\n",
       "      <td>0</td>\n",
       "      <td>0</td>\n",
       "      <td>0</td>\n",
       "      <td>0</td>\n",
       "      <td>0</td>\n",
       "      <td>0</td>\n",
       "      <td>0</td>\n",
       "      <td>1</td>\n",
       "      <td>0</td>\n",
       "      <td>0</td>\n",
       "      <td>0</td>\n",
       "      <td>0</td>\n",
       "      <td>0</td>\n",
       "      <td>1</td>\n",
       "      <td>0</td>\n",
       "      <td>0</td>\n",
       "    </tr>\n",
       "  </tbody>\n",
       "</table>\n",
       "</div>"
      ],
      "text/plain": [
       "   poisonous  bruises?  odor_a  odor_c  odor_f  odor_l  odor_m  odor_n  \\\n",
       "0          1         1       0       0       0       0       0       0   \n",
       "1          0         1       1       0       0       0       0       0   \n",
       "2          0         1       0       0       0       1       0       0   \n",
       "3          1         1       0       0       0       0       0       0   \n",
       "4          0         0       0       0       0       0       0       1   \n",
       "\n",
       "   odor_p  odor_s  odor_y  spore-print-color_h  spore-print-color_k  \\\n",
       "0       1       0       0                    0                    1   \n",
       "1       0       0       0                    0                    0   \n",
       "2       0       0       0                    0                    0   \n",
       "3       1       0       0                    0                    1   \n",
       "4       0       0       0                    0                    0   \n",
       "\n",
       "   spore-print-color_n  spore-print-color_other  spore-print-color_w  \n",
       "0                    0                        0                    0  \n",
       "1                    1                        0                    0  \n",
       "2                    1                        0                    0  \n",
       "3                    0                        0                    0  \n",
       "4                    1                        0                    0  "
      ]
     },
     "execution_count": 178,
     "metadata": {},
     "output_type": "execute_result"
    }
   ],
   "source": [
    "#get dummies function\n",
    "df_with_dummies = pd.get_dummies(df_for_pred)\n",
    "#sanity check\n",
    "df_with_dummies.head()"
   ]
  },
  {
   "cell_type": "markdown",
   "metadata": {},
   "source": [
    "## 3. EDA: exploratory data analysis: \n",
    "\n",
    "We will now finish the exploratory analysis [started above](#Initial-visualizing%3A) by looking at the relationship between our indicator (Poisonous) and  our predictor values.\n",
    "### 1.Bruises & Poisonous:"
   ]
  },
  {
   "cell_type": "code",
   "execution_count": 56,
   "metadata": {},
   "outputs": [
    {
     "data": {
      "image/png": "[encoded data removed]",
      "text/plain": [
       "<Figure size 720x360 with 2 Axes>"
      ]
     },
     "metadata": {},
     "output_type": "display_data"
    }
   ],
   "source": [
    "sns.catplot('bruises?',col ='poisonous',kind='count',data=df_for_pred);"
   ]
  },
  {
   "cell_type": "markdown",
   "metadata": {},
   "source": [
    "**conclusions:**\n",
    "\n",
    "Mushrooms that bruise appear to be more likely to to not be poisonous and mushrooms that don't bruise appear to be much more likely to be poisonous \n",
    "\n",
    "### 2. Spore print color:"
   ]
  },
  {
   "cell_type": "code",
   "execution_count": 222,
   "metadata": {},
   "outputs": [
    {
     "data": {
      "image/png": "[encoded data removed]",
      "text/plain": [
       "<Figure size 720x432 with 1 Axes>"
      ]
     },
     "metadata": {},
     "output_type": "display_data"
    }
   ],
   "source": [
    "ax= pd.crosstab(df_for_pred['spore-print-color'],df_for_pred.poisonous).plot.bar(figsize=(10,6));           \n",
    "ax.legend(['not poisonous','poisonous'],loc = 0,framealpha = .6);"
   ]
  },
  {
   "cell_type": "markdown",
   "metadata": {},
   "source": [
    "**conclusions:**\n",
    "\n",
    "spore print colors `h` and `w` appear to be significantly more likely to be poisonous\n",
    "\n",
    "while `k`, `n` & `other` are much more likely to be not poisonous  \n",
    "\n",
    "### 3. Odor:"
   ]
  },
  {
   "cell_type": "code",
   "execution_count": 223,
   "metadata": {},
   "outputs": [
    {
     "data": {
      "image/png": "[encoded data removed]",
      "text/plain": [
       "<Figure size 720x432 with 1 Axes>"
      ]
     },
     "metadata": {},
     "output_type": "display_data"
    }
   ],
   "source": [
    "table = pd.crosstab(df_for_pred.odor,df_for_pred.poisonous)\n",
    "ax = table.div(table.sum(1).astype(float),axis=0).plot(kind='bar',stacked=True,figsize=(10,6))\n",
    "plt.xticks(rotation=0);\n",
    "ax.legend(['not poisonous','poisonous'],loc = 5,framealpha = .6);"
   ]
  },
  {
   "cell_type": "markdown",
   "metadata": {},
   "source": [
    "**conclusions:**\n",
    "\n",
    "while odor `n` is highly correlated to being not poisonous it is the worst predictor of the group the rest of the odor variables are perfect predictors of whether a mushroom is poisonous"
   ]
  },
  {
   "cell_type": "markdown",
   "metadata": {},
   "source": [
    "### EDA conclusions\n",
    "\n",
    "while `Bruises?` and `sport print color` have some correlation to whether a mushroom is poisonous `odor`has a Very strong correlation and will be the strongest predictor of the bunch.\n",
    "\n",
    "____\n",
    "\n",
    "# Phase 2: Build Predictive Models"
   ]
  },
  {
   "cell_type": "code",
   "execution_count": 226,
   "metadata": {},
   "outputs": [
    {
     "name": "stdout",
     "output_type": "stream",
     "text": [
      "[[1 0 0 0 0 0 0 1 0 0 0 1 0 0 0]\n",
      " [1 1 0 0 0 0 0 0 0 0 0 0 1 0 0]\n",
      " [1 0 0 0 1 0 0 0 0 0 0 0 1 0 0]\n",
      " [1 0 0 0 0 0 0 1 0 0 0 1 0 0 0]\n",
      " [0 0 0 0 0 0 1 0 0 0 0 0 1 0 0]]\n",
      "[1 0 0 1 0]\n"
     ]
    }
   ],
   "source": [
    "# load the LogisticRegression and metrics functions\n",
    "from sklearn.linear_model import LogisticRegression\n",
    "from sklearn import metrics\n",
    "# set y varible with poisonous \n",
    "y  = df_with_dummies.poisonous.values\n",
    "# set a predictors varible starting with all varibles \n",
    "predictors = df_with_dummies.columns.values[1:]\n",
    "#set a x_train varible \n",
    "X = df_with_dummies[predictors].values\n",
    "\n",
    "#sanity check x_train\n",
    "print(X[:5])"
   ]
  },
  {
   "cell_type": "code",
   "execution_count": 227,
   "metadata": {},
   "outputs": [
    {
     "data": {
      "text/plain": [
       "array([1, 0, 0, 1, 0])"
      ]
     },
     "execution_count": 227,
     "metadata": {},
     "output_type": "execute_result"
    }
   ],
   "source": [
    "#saniy check Y_train\n",
    "y[:5]"
   ]
  },
  {
   "cell_type": "markdown",
   "metadata": {},
   "source": [
    "## null error rate"
   ]
  },
  {
   "cell_type": "code",
   "execution_count": 75,
   "metadata": {},
   "outputs": [
    {
     "data": {
      "text/plain": [
       "0.48202855736090594"
      ]
     },
     "execution_count": 75,
     "metadata": {},
     "output_type": "execute_result"
    }
   ],
   "source": [
    "df_for_pred.poisonous.sum()/df_for_pred.shape[0]"
   ]
  },
  {
   "cell_type": "code",
   "execution_count": 71,
   "metadata": {},
   "outputs": [
    {
     "data": {
      "text/plain": [
       "LogisticRegression(C=1.0, class_weight=None, dual=False, fit_intercept=True,\n",
       "          intercept_scaling=1, max_iter=100, multi_class='warn',\n",
       "          n_jobs=None, penalty='l2', random_state=None, solver='lbfgs',\n",
       "          tol=0.0001, verbose=0, warm_start=False)"
      ]
     },
     "execution_count": 71,
     "metadata": {},
     "output_type": "execute_result"
    }
   ],
   "source": [
    "# initialize a Logistic \n",
    "model = LogisticRegression(solver = 'lbfgs') # set to remove warning and set to soon to be new default \n",
    "model.fit(X_train, y_train)"
   ]
  },
  {
   "cell_type": "code",
   "execution_count": 72,
   "metadata": {},
   "outputs": [
    {
     "data": {
      "text/plain": [
       "0.9852289512555391"
      ]
     },
     "execution_count": 72,
     "metadata": {},
     "output_type": "execute_result"
    }
   ],
   "source": [
    "model.score(X_train,y_train)"
   ]
  },
  {
   "cell_type": "code",
   "execution_count": 141,
   "metadata": {},
   "outputs": [
    {
     "name": "stdout",
     "output_type": "stream",
     "text": [
      "bruises? = 0.9845965282309062\n",
      "odor_a = -6.370764481090044\n",
      "odor_c = 4.420225157911981\n",
      "odor_f = 3.76038211006417\n",
      "odor_l = -6.370764481090044\n",
      "odor_m = 0.9214413785275798\n",
      "odor_n = -5.538748545635588\n",
      "odor_p = 3.86546193244749\n",
      "odor_s = 2.655848383087907\n",
      "odor_y = 2.65584838308791\n",
      "spore-print-color_h = 0.83220191234103\n",
      "spore-print-color_k = -2.2578961444188193\n",
      "spore-print-color_n = -2.2760811411417\n",
      "spore-print-color_other = 2.5765869553793483\n",
      "spore-print-color_w = 1.124118255151537\n"
     ]
    }
   ],
   "source": [
    "for e,p in enumerate(predictors):\n",
    "    print(f'{p} = {model.coef_[0][e]}')\n",
    "    "
   ]
  },
  {
   "cell_type": "code",
   "execution_count": 111,
   "metadata": {},
   "outputs": [
    {
     "data": {
      "text/plain": [
       "array([1, 0, 0, 1, 0])"
      ]
     },
     "execution_count": 111,
     "metadata": {},
     "output_type": "execute_result"
    }
   ],
   "source": [
    "y_pred = model.predict(X_train)\n",
    "y_pred[:5]"
   ]
  },
  {
   "cell_type": "code",
   "execution_count": 131,
   "metadata": {},
   "outputs": [
    {
     "name": "stdout",
     "output_type": "stream",
     "text": [
      "              precision    recall  f1-score   support\n",
      "\n",
      "           0       0.97      1.00      0.99      4208\n",
      "           1       1.00      0.97      0.98      3916\n",
      "\n",
      "   micro avg       0.99      0.99      0.99      8124\n",
      "   macro avg       0.99      0.98      0.99      8124\n",
      "weighted avg       0.99      0.99      0.99      8124\n",
      "\n"
     ]
    }
   ],
   "source": [
    "print(metrics.classification_report(y_train,y_pred))"
   ]
  }
 ],
 "metadata": {
  "kernelspec": {
   "display_name": "Python 3",
   "language": "python",
   "name": "python3"
  },
  "language_info": {
   "codemirror_mode": {
    "name": "ipython",
    "version": 3
   },
   "file_extension": ".py",
   "mimetype": "text/x-python",
   "name": "python",
   "nbconvert_exporter": "python",
   "pygments_lexer": "ipython3",
   "version": "3.7.1"
  }
 },
 "nbformat": 4,
 "nbformat_minor": 2
}
