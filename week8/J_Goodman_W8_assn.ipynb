{
 "cells": [
  {
   "cell_type": "markdown",
   "metadata": {},
   "source": [
    "# week 8 \n",
    "**_Regular Expressions_**\n",
    "> Text data is often in need of “cleaning” and preparation before it can be effectively used for analysis purposes. Consider\n",
    "the following poorly formatted text string containing names and phone numbers of some residents of the town of\n",
    "Springfield:  \n",
    "`\"555-1239Moe Szyslak(636) 555-0113Burns, C. Montgomery555 -6542Rev. Timothy Lovejoy555\n",
    " 8904Ned Flanders636-555-3226Simpson, Homer5553642Dr. Julius Hibbert\"`"
   ]
  },
  {
   "cell_type": "code",
   "execution_count": 1,
   "metadata": {},
   "outputs": [],
   "source": [
    "# getting ready to answer questions\n",
    "#import regualar expresion module\n",
    "import re \n",
    "\n",
    "#assigning string to variable\n",
    "text = \"555-1239Moe Szyslak(636) 555-0113Burns, C. Montgomery555 -6542Rev. Timothy Lovejoy555 8904Ned Flanders636-555-3226Simpson, Homer5553642Dr. Julius Hibbert\"\n"
   ]
  },
  {
   "cell_type": "markdown",
   "metadata": {},
   "source": [
    "### question 1\n",
    "\n",
    "1. Extract the names of each individual from the unformatted text string and store them in a vector of some sort. When complete, your vector should contain the following entries:\n",
    "\n",
    "\n",
    "``` \"Moe Szyslak\" \"Burns, C. Montgomery\" \"Rev. Timothy Lovejoy\"\n",
    "\"Ned Flanders\" \"Simpson,Homer\" \"Dr. Julius Hibbert ```"
   ]
  },
  {
   "cell_type": "code",
   "execution_count": 21,
   "metadata": {},
   "outputs": [
    {
     "data": {
      "text/plain": [
       "['Moe Szyslak',\n",
       " 'Burns, C. Montgomery',\n",
       " 'Rev. Timothy Lovejoy',\n",
       " 'Ned Flanders',\n",
       " 'Simpson, Homer',\n",
       " 'Dr. Julius Hibbert']"
      ]
     },
     "execution_count": 21,
     "metadata": {},
     "output_type": "execute_result"
    }
   ],
   "source": [
    "#compiling regex\n",
    "re_names = re.compile(r'[A-Z][a-z,.]+\\s[A-Z][a-z,.]+\\s?[A-Z]?[a-z,.]*')\n",
    "\n",
    "#extracting names\n",
    "names = re_names.findall(text)\n",
    "\n",
    "#sanity check\n",
    "names"
   ]
  },
  {
   "cell_type": "markdown",
   "metadata": {},
   "source": [
    "### question 2\n",
    "2. Using your new vector containing only the names of the six individuals, complete the following tasks:  \n",
    "    1. Use your regex skills to rearrange the vector so that all elements conform to the standard “firstname lastname”, preserving any titles (e.g., “Rev.”, “Dr.”, etc) or middle/second names.\n",
    "    2. Construct a logical vector indicating whether a character has a title (i.e., Rev. and Dr.).\n",
    "    3. Construct a logical vector indicating whether a character has a middle/second name."
   ]
  },
  {
   "cell_type": "code",
   "execution_count": 60,
   "metadata": {},
   "outputs": [
    {
     "name": "stdout",
     "output_type": "stream",
     "text": [
      "['Moe Szyslak', 'C. Montgomery Burns', 'Rev. Timothy Lovejoy', 'Ned Flanders', 'Homer Simpson', 'Dr. Julius Hibbert']\n",
      "[False, False, True, False, False, True]\n",
      "[False, True, False, False, False, False]\n"
     ]
    }
   ],
   "source": [
    "#A. compile needed regex's\n",
    "re_rearange =  re.compile(r\"([A-Z][a-z]+), ([A-z. ]+)\")\n",
    "re_titles = re.compile(r'(Dr.|Rev.)')\n",
    "re_threenames = re.compile(r'\\w+\\W+\\w+\\W\\w+')\n",
    "\n",
    "#initilize vectors\n",
    "title = []\n",
    "three_names = []\n",
    "\n",
    "#iterate through vector created previously and perform all needed operations\n",
    "for name in names:\n",
    "    #A. rearange\n",
    "    if re_rearange.match(name):\n",
    "        names[names.index(name)] = f'{re_rearange.match(name).group(2)} {re_rearange.match(name).group(1)}'                           \n",
    "    #B. identify titled names\n",
    "    if re_titles.match(name):\n",
    "        title.append(True)\n",
    "    else:\n",
    "        title.append(False)\n",
    "    #C.identify three named individuals \n",
    "    if (title[-1] == False) and re_threenames.match(name):\n",
    "        three_names.append(True)\n",
    "    else:\n",
    "        three_names.append(False)\n",
    "\n",
    "print('2.A. all names properly arranged')\n",
    "print(names)\n",
    "print('2.B. vector of titled names')\n",
    "print(title)\n",
    "print('2.C. vecotr of three named individuals')\n",
    "print(three_names)"
   ]
  },
  {
   "cell_type": "markdown",
   "metadata": {},
   "source": [
    "### question 3\n",
    "3. Consider the HTML string \\<  title   >    +++    BREAKING NEWS+++   \\<   title   >. We would like to extract the first HTML tag (i.e.,“\\<   title>”). To do so we write the regular expression “<.+>”. Explain why this fails and correct the expression.\n",
    "\n",
    "**answer**:  \n",
    "\n",
    "This fails because our quantifier `+` is acting greedily from the supplemental text:\n",
    ">The default behavior of regular expressions is to be greedy. That means it tries to extract as much as possible until it conforms to a pattern even when a smaller part would have been syntactically sufficient.\n",
    "--<cite>[text](https://www.machinelearningplus.com/python/python-regex-tutorial-examples/) </cite> \n",
    "  \n",
    "  \n",
    "to correct this behavior we append a `?` after any quantifier as illustrated in the code cell below\n"
   ]
  },
  {
   "cell_type": "code",
   "execution_count": 61,
   "metadata": {},
   "outputs": [
    {
     "data": {
      "text/plain": [
       "'<title>'"
      ]
     },
     "execution_count": 61,
     "metadata": {},
     "output_type": "execute_result"
    }
   ],
   "source": [
    "html = \"<title>+++BREAKING NEWS+++<title>\"\n",
    "re_html = re.compile(\"<.+?>\")\n",
    "\n",
    "re_html.match(html).group()"
   ]
  },
  {
   "cell_type": "markdown",
   "metadata": {},
   "source": [
    "4. Consider the string “(5-3)^2=5^2-2*5*3+3^2” conforms to the binomial theorem. We would like to extract the formula in the string. To do so we write the regular expression `“[^0-9=+*()]+”`. Explain why this fails and correct the expression.\n",
    "\n",
    "**answer:**\n",
    "this match failed for two reasons:\n",
    "\n",
    "1. When we want to match special characters such as `^` we need to 'escape' them with a backlash. `\\^`\n",
    "\n",
    "2. We are also missing a necessary character  `-`\n",
    "\n",
    "so to capture the entire formula we would need  the following regular expression:\n",
    "\n",
    "`[\\^0-9=+*()-]+`\n",
    "\n",
    "*extra:*\n",
    "replace the numbers with the variables to further 'formulize' "
   ]
  },
  {
   "cell_type": "code",
   "execution_count": 44,
   "metadata": {},
   "outputs": [
    {
     "data": {
      "text/plain": [
       "'(a-b)^2=a^2-2*a*b+b^2'"
      ]
     },
     "execution_count": 44,
     "metadata": {},
     "output_type": "execute_result"
    }
   ],
   "source": [
    "# set expresion and string\n",
    "string = '(5-3)^2=5^2-2*5*3+3^2'\n",
    "formula = re.compile(r'[\\^0-9=+*()-]+')\n",
    "\n",
    "# replace numbers with variables \n",
    "re.sub('3','b',re.sub('5','a',re.match(,string).group()))\n"
   ]
  }
 ],
 "metadata": {
  "kernelspec": {
   "display_name": "Python 3",
   "language": "python",
   "name": "python3"
  },
  "language_info": {
   "codemirror_mode": {
    "name": "ipython",
    "version": 3
   },
   "file_extension": ".py",
   "mimetype": "text/x-python",
   "name": "python",
   "nbconvert_exporter": "python",
   "pygments_lexer": "ipython3",
   "version": "3.7.1"
  }
 },
 "nbformat": 4,
 "nbformat_minor": 2
}
