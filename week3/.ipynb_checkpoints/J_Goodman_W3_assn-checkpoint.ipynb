{
 "cells": [
  {
   "cell_type": "markdown",
   "metadata": {},
   "source": [
    "### Start:\n",
    ">Start by reading the cars-sample35.txt file and re-creating the seven distinct lists of automobile attributes (i.e., Price,\n",
    "Maintenance Cost, Number of Doors, Number of Passengers, Luggage Capacity, Safety Rating, Classification of Vehicle)\n",
    "we worked with last week. You should be able to do this via a simple cut + paste of your code from last week.\n"
   ]
  },
  {
   "cell_type": "code",
   "execution_count": 5,
   "metadata": {},
   "outputs": [],
   "source": [
    "#1. import packages\n",
    "import csv\n",
    "\n",
    "#2. set up lists for each attribute \n",
    "Price = []\n",
    "MaintenanceCost = []\n",
    "NumberOfDoors = []\n",
    "NumberOfPassengers = []\n",
    "LuggageCapacity = []\n",
    "SafetyRating = []\n",
    "ClassificationOfVehicle = []\n",
    "\n",
    "\n",
    "#2. utlize provided code to populate lists from csv file. \n",
    "with open('cars-sample35.txt') as csvfile: #file located in same dir as notebook\n",
    "    readCSV = csv.reader(csvfile)     \n",
    "    for row in readCSV: \n",
    "        #3. use append method to add each item to the appropriate list \n",
    "        Price.append(row[0])\n",
    "        MaintenanceCost.append(row[1])\n",
    "        NumberOfDoors.append(row[2])\n",
    "        NumberOfPassengers.append(row[3])\n",
    "        LuggageCapacity.append(row[4])\n",
    "        SafetyRating.append(row[5])\n",
    "        ClassificationOfVehicle.append(row[6])\n",
    "        "
   ]
  },
  {
   "cell_type": "markdown",
   "metadata": {},
   "source": [
    "### Task 1\n",
    ">Your first task is to find the list index values of each automobile having a price rating of \"med\". However, you are\n",
    "required to do this using a list comprehension instead of a basic for or while loop. The list comprehension should\n",
    "create a new list containing your result. Be sure to print your results to the screen.\n",
    "\n",
    "this code is from the week2 homework as I had already utilized list comprehension.\n"
   ]
  },
  {
   "cell_type": "code",
   "execution_count": 6,
   "metadata": {
    "scrolled": true
   },
   "outputs": [
    {
     "name": "stdout",
     "output_type": "stream",
     "text": [
      "[6, 16, 20, 23, 26, 29]\n",
      "med\n",
      "med\n",
      "med\n",
      "med\n",
      "med\n",
      "med\n"
     ]
    }
   ],
   "source": [
    "# 1. use list comprehesion and enumerate function\n",
    "Task_1_1 = [i for i,j in enumerate(Price) if j == \"med\"]\n",
    "print(Task_2_1) #print as requested\n",
    "\n",
    "# sanity check of results \n",
    "for p in Task_1_1:\n",
    "    print(Price[p])"
   ]
  },
  {
   "cell_type": "markdown",
   "metadata": {},
   "source": [
    "### Task 2\n",
    ">Your second task is to find the \"number of passengers\" value for each auto having a \"price\" value of \"med\" using a list\n",
    "comprehension instead of a basic for or while loop. The list comprehension should create a new list containing your\n",
    "findings. Be sure to print your results to the screen.\n",
    "\n",
    "\n",
    "this code from week2 homework as I had already utlized list comprehension"
   ]
  },
  {
   "cell_type": "code",
   "execution_count": 13,
   "metadata": {},
   "outputs": [
    {
     "name": "stdout",
     "output_type": "stream",
     "text": [
      "['more', '2', '2', '2', '4', '2']\n"
     ]
    }
   ],
   "source": [
    "#2 list comprehension done using varible created in task 1\n",
    "Task_2_1 = [NumberOfPassengers[i] for i in Task_1_1]\n",
    "print(Task_2_1)\n"
   ]
  },
  {
   "cell_type": "markdown",
   "metadata": {},
   "source": [
    "### Task 3\n",
    ">Your third task is to find the index value for each automobile having a price value of \"high\" and a maintenance value that\n",
    "is not \"low\" using a list comprehension. The list comprehension should create a new list containing your findings. Be sure to print your results to the screen.\n"
   ]
  },
  {
   "cell_type": "code",
   "execution_count": 26,
   "metadata": {},
   "outputs": [
    {
     "name": "stdout",
     "output_type": "stream",
     "text": [
      "[0, 1, 2, 27, 31]\n"
     ]
    }
   ],
   "source": [
    "# zip function to create combined list and enumerate function to simplify index output\n",
    "\n",
    "task_3_1 = [i for i, z in enumerate(zip(Price,MaintenanceCost)) if z[0]== 'high' and z[1] != 'low']\n",
    "\n",
    "print(task_3_1)"
   ]
  },
  {
   "cell_type": "markdown",
   "metadata": {},
   "source": [
    "### Task 4\n",
    ">Consider the following list of lists:   \n",
    ">nlist = [ [1, 2, 3], [‘A’, ‘B’, ‘C’], [4, 5], [‘D’, ‘E’] ]  \n",
    ">If we wanted to extract each individual element of the component lists contained within nlist and add them to a new list, we could use a nested for loop similar to this:\n",
    ">\n",
    ">flist = []\n",
    ">for x in nlist:\n",
    " >for y in x:\n",
    " >flist.append(y)\n",
    ">print(flist)\n",
    ">\n",
    ">For your fourth task, implement this same logic using a list comprehension. Apply your list comprehension to the nlist\n",
    ">list of lists shown above. Be sure to print your newly created list to the screen.\n"
   ]
  },
  {
   "cell_type": "code",
   "execution_count": 35,
   "metadata": {},
   "outputs": [
    {
     "name": "stdout",
     "output_type": "stream",
     "text": [
      "[1, 2, 3, 'A', 'B', 'C', 4, 5, 'D', 'E']\n"
     ]
    }
   ],
   "source": [
    "# set varible list of list provided\n",
    "nlist = [ [1, 2, 3], ['A', 'B', 'C'], [4, 5], ['D', 'E'] ]\n",
    "\n",
    "#nested list comprehsion to flaten list\n",
    "task_4_1 = [y for x in nlist for y in x]\n",
    "\n",
    "print(task_4_1)"
   ]
  },
  {
   "cell_type": "markdown",
   "metadata": {},
   "source": [
    "### task 5\n",
    ">Your fifth task is to create a user defined function that accepts as input one of the seven automobile attribute lists as\n",
    "well as an integer value and returns a Python dict object. Remember: a Python dict object is comprised of ‘key/value’\n",
    "pairs. The integer value accepted as a parameter by your function will represent the exact number of items you are to\n",
    "use from the list for purposes of creating the new dict object. So for example, if your function was defined as:\n",
    ">\n",
    ">def makedict(mylist, x):  \n",
    "     >newdict = {}  \n",
    "     >your code goes here  \n",
    "     >return(newdict)\n",
    ">\n",
    ">you would take the first x items from mylist to create the new dict object. The key values you assign to the elements of\n",
    "the dict object should all be comprised of a combination of the letter ‘A’ and the alphanumeric representation of the\n",
    "index value corresponding to the location of the item in the mylist object. So if you had 3 dict elements in total, the key\n",
    "values for those elements would be (‘A0’, ‘A1’, ‘A2’). If we apply this concept to the first 5 elements of our “Luggage” list"
   ]
  },
  {
   "cell_type": "code",
   "execution_count": 60,
   "metadata": {},
   "outputs": [
    {
     "data": {
      "text/plain": [
       "{'A0': 'med', 'A1': 'small', 'A2': 'big', 'A3': 'big', 'A4': 'med'}"
      ]
     },
     "execution_count": 60,
     "metadata": {},
     "output_type": "execute_result"
    }
   ],
   "source": [
    "def makedict(thelist,x):\n",
    "    # check that x is less then length list and correct for possible entry error\n",
    "    if x > len(thelist):\n",
    "        x = len(thelist)\n",
    "    #def find the dictionary to be returned    \n",
    "    newdict= {}\n",
    "    #set index to be utilized in constructing key value pairs\n",
    "    index = 0\n",
    "    # for loop to loop through list and create dictionary \n",
    "    for l in thelist[:x]:\n",
    "        #co\n",
    "        newdict[f\"A{index}\"]= l\n",
    "        index += 1\n",
    "    return(newdict)\n",
    "\n",
    "makedict(LuggageCapacity,5)"
   ]
  },
  {
   "cell_type": "code",
   "execution_count": 67,
   "metadata": {},
   "outputs": [
    {
     "name": "stdout",
     "output_type": "stream",
     "text": [
      "the A4th element of the two dictionaries is\n",
      "vhigh\n",
      "med\n"
     ]
    }
   ],
   "source": [
    "# utlize function to make new strings\n",
    "pricedict = makedict(Price,7)\n",
    "priceluggage = makedict(LuggageCapacity,7)\n",
    "\n",
    "# print with f strings to find return A4 dict element\n",
    "\n",
    "print(f'the A4th element of the two dictionaries is\\n{pricedict[\"A4\"]}\\n{priceluggage[\"A4\"]}')\n"
   ]
  },
  {
   "cell_type": "code",
   "execution_count": null,
   "metadata": {},
   "outputs": [],
   "source": []
  }
 ],
 "metadata": {
  "kernelspec": {
   "display_name": "Python 3",
   "language": "python",
   "name": "python3"
  },
  "language_info": {
   "codemirror_mode": {
    "name": "ipython",
    "version": 3
   },
   "file_extension": ".py",
   "mimetype": "text/x-python",
   "name": "python",
   "nbconvert_exporter": "python",
   "pygments_lexer": "ipython3",
   "version": "3.7.2"
  }
 },
 "nbformat": 4,
 "nbformat_minor": 2
}
