{
 "cells": [
  {
   "cell_type": "markdown",
   "metadata": {},
   "source": [
    "Question on week2 homework:  \n",
    "\n",
    "\n",
    "    single use iterators like readcsv?\n",
    "    \n",
    "1. I found them very confusing and would loove to understand more about their fundemental conseption and typical use."
   ]
  },
  {
   "cell_type": "markdown",
   "metadata": {},
   "source": [
    "### class topic week 3:  \n",
    "\n",
    "#### Lists, Tuples, Sets & Dictionaries:\n",
    "\n",
    "* lists: mutable (modify\n",
    "* tuple: Imutable( unmodifiable: exepction items within that are mutable ie a list)\n",
    "* sets\n",
    "* dicts\n",
    "\n",
    "\n"
   ]
  },
  {
   "cell_type": "markdown",
   "metadata": {},
   "source": [
    "#### list, set, dict comprehensions & generators\n",
    "\n"
   ]
  },
  {
   "cell_type": "code",
   "execution_count": 5,
   "metadata": {},
   "outputs": [
    {
     "data": {
      "text/plain": [
       "[1, 2, 4, 5, 7, 8, 10, 11, 13, 14, 16, 17, 19]"
      ]
     },
     "execution_count": 5,
     "metadata": {},
     "output_type": "execute_result"
    }
   ],
   "source": [
    "val = [val for val in range(20) if val % 3]\n",
    "val"
   ]
  },
  {
   "cell_type": "code",
   "execution_count": 10,
   "metadata": {},
   "outputs": [
    {
     "name": "stdout",
     "output_type": "stream",
     "text": [
      "<class 'generator'> [0, 1, 4, 9, 16, 25, 36, 49, 64, 81, 100, 121] []\n"
     ]
    }
   ],
   "source": [
    "g = (n **2 for n in range(12))\n",
    "print(\n",
    "type(g),\n",
    "list(g),\n",
    "\n",
    "   list(g))"
   ]
  },
  {
   "cell_type": "code",
   "execution_count": 26,
   "metadata": {},
   "outputs": [
    {
     "name": "stdout",
     "output_type": "stream",
     "text": [
      "OK OK Points: 4\n"
     ]
    }
   ],
   "source": [
    "def points(speed):\n",
    "    \"\"\"how much is your insurance about to go up\"\"\"\n",
    "    if speed < 70:\n",
    "        return 'OK'\n",
    "    elif (speed-70)//5 > 6:\n",
    "        return 'License Suspended'\n",
    "    elif 70 <= speed:\n",
    "        return f'Points: {(speed-70)//5}'\n",
    "    else:\n",
    "        return 'please try again with a positive number'el\n",
    "    \n",
    "\n",
    "print(points(30), points(-200),points(90))\n",
    "    "
   ]
  },
  {
   "cell_type": "code",
   "execution_count": 28,
   "metadata": {},
   "outputs": [
    {
     "name": "stdout",
     "output_type": "stream",
     "text": [
      "True False\n"
     ]
    }
   ],
   "source": [
    "def IsPrime(x: int):\n",
    "\n",
    "    if x == 0:\n",
    "        Print('Niether prime or not prime')\n",
    "    else:\n",
    "        for p in range(2,x):\n",
    "            if x%p ==0:\n",
    "                return False\n",
    "            else:\n",
    "                return True\n",
    "\n",
    "  \n",
    "print(IsPrime(3),IsPrime(1000))\n"
   ]
  }
 ],
 "metadata": {
  "kernelspec": {
   "display_name": "Python 3",
   "language": "python",
   "name": "python3"
  },
  "language_info": {
   "codemirror_mode": {
    "name": "ipython",
    "version": 3
   },
   "file_extension": ".py",
   "mimetype": "text/x-python",
   "name": "python",
   "nbconvert_exporter": "python",
   "pygments_lexer": "ipython3",
   "version": "3.7.2"
  }
 },
 "nbformat": 4,
 "nbformat_minor": 2
}
